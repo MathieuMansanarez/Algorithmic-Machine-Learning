{
 "cells": [
  {
   "cell_type": "markdown",
   "metadata": {},
   "source": [
    "2018 Edition : Submitted by aml_17 : [Karam EL TANNIR](https://www.linkedin.com/in/keltannir/), [Mathieu MANSANAREZ](https://github.com/MathieuMansanarez), [Gégé RASOLONDRAIBE](https://github.com/grasolondraibe)"
   ]
  },
  {
   "cell_type": "markdown",
   "metadata": {},
   "source": [
    "# Building a music recommender system\n",
    "\n",
    "As its name implies, a recommender system is a tool that helps predicting what a user may or may not like among a list of given items. In some sense, you can view this as an alternative to content search, as recommendation engines help users discover products or content that they may not come across otherwise. For example, Facebook suggests friends and pages to users. Youtube recommends videos which users may be interested in. Amazon suggests the products which users may need... Recommendation engines engage users to services, can be seen as a revenue optimization process, and in general help maintaining interest in a service.\n",
    "\n",
    "In this notebook, we study how to build a simple recommender system: we focus on music recommendations, and we use a simple algorithm to predict which items users might like, that is called ALS, alternating least squares.\n",
    "\n",
    "## Goals\n",
    "\n",
    "In this lecture, we expect students to:\n",
    "\n",
    "- Revisit (or learn) recommender algorithms\n",
    "\n",
    "- Understand the idea of Matrix Factorization and the ALS algorithm (serial and parallel versions)\n",
    "\n",
    "- Build a simple model for a real usecase: music recommender system\n",
    "\n",
    "- Understand how to validate the results\n",
    "\n",
    "## Steps\n",
    "\n",
    "We assume students to work outside lab hours on the learning material. These are the steps by which we guide students, during labs, to build a good basis for the end-to-end development of a recommender system:\n",
    "\n",
    "* Inspect the data using Spark SQL, and build some basic, but very valuable knowledge about the information we have at hand\n",
    "* Formally define what is a sensible algorithm to achieve our goal: given the \"history\" of user taste for music, recommend new music to discover. Essentialy, we want to build a statistical model of user preferences such that we can use it to \"predict\" which additional music the user could like\n",
    "* With our formal definition at hand, we will learn different ways to implement such an algorithm. Our goal here is to illustrate what are the difficulties to overcome when implementing a (parallel) algorithm\n",
    "* Finally, we will focus on an existing implementation, available in the Apache Spark MLLib, which we will use out of the box to build a reliable statistical model\n",
    "\n",
    "Now, you may think at this point we will be done!\n",
    "\n",
    "Well, you'd better think twice: one important topic we will cover in all our Notebooks is **how to validate the results we obtain**, and **how to choose good parameters to train models** especially when using an \"opaque\" library for doing the job. As a consequence, we will focus on the statistical validation of our recommender system.\n"
   ]
  },
  {
   "cell_type": "markdown",
   "metadata": {},
   "source": [
    "# 1. Data\n",
    "\n",
    "Understanding data is one of the most important part when designing any machine learning algorithm. In this notebook, we will use a data set published by Audioscrobbler - a music recommendation system for last.fm. Audioscrobbler is also one of the first internet streaming radio sites, founded in 2002. It provided an open API for “scrobbling”, or recording listeners’ plays of artists’ songs. last.fm used this information to build a powerful music recommender engine.\n",
    "\n",
    "## 1.1. Data schema\n",
    "\n",
    "Unlike a rating dataset which contains information about users' preference for products (one star, 3 stars, and so on), the datasets from Audioscrobbler only has information about events: specifically, it keeps track of how many times a user played songs of a given artist and the names of artists. That means it carries less information than a rating: in the literature, this is called explicit vs. implicit ratings.\n",
    "\n",
    "### Reading material\n",
    "\n",
    "- [Implicit Feedback for Inferring User Preference: A Bibliography](http://people.csail.mit.edu/teevan/work/publications/papers/sigir-forum03.pdf)\n",
    "- [Comparing explicit and implicit feedback techniques for web retrieval: TREC-10 interactive track report](http://trec.nist.gov/pubs/trec10/papers/glasgow.pdf)\n",
    "- [Probabilistic Models for Data Combination in Recommender Systems](http://mlg.eng.cam.ac.uk/pub/pdf/WilGha08.pdf)\n",
    "\n",
    "The data we use in this Notebook is available in 3 files (these files are stored in our HDFS layer, in the directory  ```/datasets/lastfm```):\n",
    "\n",
    "- **`user_artist_data.txt`**: It contains about 140,000+ unique users, and 1.6 million unique artists. About 24.2 million users’ plays of artists’ are recorded, along with their count. It has 3 columns separated by spaces: \n",
    "\n",
    "| UserID | ArtistID | PlayCount |\n",
    "|----|----|----|\n",
    "| ...|...|...|\n",
    "\n",
    "\n",
    "- **`artist_data.txt`** : It prodives the names of each artist by their IDs. It has 2 columns separated by tab characters (`\\t`).\n",
    "\n",
    "| ArtistID | Name |\n",
    "|---|---|\n",
    "|...|...|\n",
    "\n",
    "- **`artist_alias.txt`**: Note that when plays are scrobbled, the client application submits the name of the artist being played. This name could be misspelled or nonstandard. For example, \"The Smiths\", \"Smiths, The\", and \"the smiths\" may appear as distinct artist IDs in the data set, even though they are plainly the same. `artist_alias.txt` maps artist IDs that are known misspellings or variants to the canonical ID of that artist. The data in this file has 2 columns separated by tab characters (`\\t`).\n",
    "\n",
    "| MisspelledArtistID | StandardArtistID |\n",
    "|---|---|\n",
    "|...|...|\n",
    "\n"
   ]
  },
  {
   "cell_type": "markdown",
   "metadata": {},
   "source": [
    "## 1.2. Understanding data: simple descriptive statistic\n",
    "\n",
    "In order to choose or design a suitable algorithm for achieving our goals, given the data we have, we should first understand data characteristics. To start, we import the necessary packages to work with regular expressions, Data Frames, and other nice features of our programming environment."
   ]
  },
  {
   "cell_type": "code",
   "execution_count": 1,
   "metadata": {},
   "outputs": [],
   "source": [
    "import os\n",
    "import sys\n",
    "import re # regular expressions\n",
    "import random\n",
    "from pyspark import SparkContext\n",
    "from pyspark.sql import SQLContext\n",
    "from pyspark.sql.types import *\n",
    "from pyspark.sql import Row\n",
    "from pyspark.sql.functions import *\n",
    "\n",
    "%matplotlib inline\n",
    "import matplotlib.pyplot as plt\n",
    "import pandas as pd\n",
    "import numpy as np\n",
    "from time import time\n",
    "\n",
    "sqlContext = SQLContext(sc)\n",
    "base = \"/datasets/lastfm/\""
   ]
  },
  {
   "cell_type": "markdown",
   "metadata": {},
   "source": [
    "### Question 1\n",
    "\n",
    "#### Question 1.0 (Non-grading)\n",
    "<div class=\"alert alert-info\">\n",
    "Using SPARK SQL, load data from `/datasets/lastfm/user_artist_data.txt` and show the first 20 entries (via function `show()`).\n",
    "</div>\n",
    "\n",
    "For this Notebook, from a programming point of view, we are given the schema for the data we use, which is as follows:\n",
    "\n",
    "```\n",
    "userID: long int\n",
    "artistID: long int\n",
    "playCount: int\n",
    "```\n",
    "\n",
    "Each line of the dataset contains the above three fields, separated by a \"white space\"."
   ]
  },
  {
   "cell_type": "code",
   "execution_count": 44,
   "metadata": {
    "collapsed": true
   },
   "outputs": [
    {
     "name": "stdout",
     "output_type": "stream",
     "text": [
      "+-------+--------+---------+\n",
      "| userID|artistID|playCount|\n",
      "+-------+--------+---------+\n",
      "|1000019| 1000591|        1|\n",
      "|1000020| 1000591|        1|\n",
      "|1000021| 1000591|       31|\n",
      "|1000022| 1000591|        5|\n",
      "|1000023| 1000591|        2|\n",
      "|1000028| 1000591|       53|\n",
      "|1000036| 1000591|        1|\n",
      "|1000037| 1000591|       40|\n",
      "|1000047| 1000591|        7|\n",
      "|1000051| 1000591|        2|\n",
      "|1000060| 1000591|        3|\n",
      "|1000067| 1000591|       23|\n",
      "|1000071| 1000591|        4|\n",
      "|1000072| 1000591|        1|\n",
      "|1000083| 1000591|        7|\n",
      "|1000095| 1000591|        2|\n",
      "|1000098| 1000591|        1|\n",
      "|1000099| 1000591|        1|\n",
      "|1000106| 1000591|        1|\n",
      "|1000107| 1000591|       10|\n",
      "+-------+--------+---------+\n",
      "only showing top 20 rows\n",
      "\n",
      "+------+--------+---------+\n",
      "|userID|artistID|playCount|\n",
      "+------+--------+---------+\n",
      "+------+--------+---------+\n",
      "\n",
      "+-------+--------+---------+\n",
      "| userID|artistID|playCount|\n",
      "+-------+--------+---------+\n",
      "|1000002|       1|       55|\n",
      "|1000002| 1000006|       33|\n",
      "|1000002| 1000007|        8|\n",
      "|1000002| 1000009|      144|\n",
      "|1000002| 1000010|      314|\n",
      "|1000002| 1000013|        8|\n",
      "|1000002| 1000014|       42|\n",
      "|1000002| 1000017|       69|\n",
      "|1000002| 1000024|      329|\n",
      "|1000002| 1000025|        1|\n",
      "|1000002| 1000028|       17|\n",
      "|1000002| 1000031|       47|\n",
      "|1000002| 1000033|       15|\n",
      "|1000002| 1000042|        1|\n",
      "|1000002| 1000045|        1|\n",
      "|1000002| 1000054|        2|\n",
      "|1000002| 1000055|       25|\n",
      "|1000002| 1000056|        4|\n",
      "|1000002| 1000059|        2|\n",
      "|1000002| 1000062|       71|\n",
      "+-------+--------+---------+\n",
      "only showing top 20 rows\n",
      "\n"
     ]
    }
   ],
   "source": [
    "userArtistDataSchema = StructType([ \\\n",
    "    StructField(\"userID\", LongType(), True), \\\n",
    "    StructField(\"artistID\", LongType(), True), \\\n",
    "    StructField(\"playCount\", IntegerType(), True)])\n",
    "\n",
    "userArtistDF = sqlContext.read \\\n",
    "    .format('com.databricks.spark.csv') \\\n",
    "    .options(header='false', delimiter=' ') \\\n",
    "    .load(base + \"user_artist_data.txt\", schema = userArtistDataSchema) \\\n",
    "    .cache()\n",
    "\n",
    "# we can cache an Dataframe to avoid computing it from the beginning everytime it is accessed.\n",
    "userArtistDF.cache()\n",
    "\n",
    "userArtistDF.show(20)"
   ]
  },
  {
   "cell_type": "markdown",
   "metadata": {},
   "source": [
    "Loading the extra files artist_data.txt and artist_alias.txt that will be used later in the notebook"
   ]
  },
  {
   "cell_type": "markdown",
   "metadata": {},
   "source": [
    "#### Question 1.1: \n",
    "<div class=\"alert alert-info\">\n",
    "How many distinct users do we have in our data? \n",
    "</div>"
   ]
  },
  {
   "cell_type": "code",
   "execution_count": 3,
   "metadata": {
    "collapsed": true
   },
   "outputs": [
    {
     "name": "stdout",
     "output_type": "stream",
     "text": [
      "Total n. of users:  148111\n"
     ]
    }
   ],
   "source": [
    "uniqueUsers = userArtistDF.select('userID').distinct().count()\n",
    "print(\"Total n. of users: \", uniqueUsers)"
   ]
  },
  {
   "cell_type": "markdown",
   "metadata": {},
   "source": [
    "#### Question 1.2\n",
    "<div class=\"alert alert-info\">\n",
    "How many distinct artists do we have in our data ?\n",
    "</div>"
   ]
  },
  {
   "cell_type": "code",
   "execution_count": 4,
   "metadata": {
    "collapsed": true
   },
   "outputs": [
    {
     "name": "stdout",
     "output_type": "stream",
     "text": [
      "Total n. of artists:  1631028\n"
     ]
    }
   ],
   "source": [
    "uniqueArtists = userArtistDF.select('artistID').distinct().count()\n",
    "print(\"Total n. of artists: \", uniqueArtists)"
   ]
  },
  {
   "cell_type": "markdown",
   "metadata": {},
   "source": [
    "#### Question 1.3\n",
    "<div class=\"alert alert-info\">\n",
    "One limitation of Spark MLlib's ALS implementation - which we will use later - is that it requires IDs for users and items to be nonnegative 32-bit integers. This means that IDs larger than `Integer.MAX_VALUE`, or `2147483647`, can't be used. So we need to check whether this data set conforms to the strict requirements of our library.  \n",
    "\n",
    "What are the maximum and minimum values of column `userID` ?  \n",
    "</div>"
   ]
  },
  {
   "cell_type": "code",
   "execution_count": 5,
   "metadata": {
    "collapsed": true
   },
   "outputs": [
    {
     "name": "stdout",
     "output_type": "stream",
     "text": [
      "+-----------+\n",
      "|max(userID)|\n",
      "+-----------+\n",
      "|    2443548|\n",
      "+-----------+\n",
      "\n",
      "+-----------+\n",
      "|min(userID)|\n",
      "+-----------+\n",
      "|         90|\n",
      "+-----------+\n",
      "\n"
     ]
    }
   ],
   "source": [
    "userArtistDF.select(max(\"userID\")).show()\n",
    "userArtistDF.select(min(\"userID\")).show()"
   ]
  },
  {
   "cell_type": "markdown",
   "metadata": {},
   "source": [
    "#### Question 1.4\n",
    "<div class=\"alert alert-info\">\n",
    "What is the maximum and minimum values of column `artistID` ?\n",
    "</div>"
   ]
  },
  {
   "cell_type": "code",
   "execution_count": 6,
   "metadata": {
    "collapsed": true
   },
   "outputs": [
    {
     "name": "stdout",
     "output_type": "stream",
     "text": [
      "+-------------+-------------+\n",
      "|max(artistID)|min(artistID)|\n",
      "+-------------+-------------+\n",
      "|     10794401|            1|\n",
      "+-------------+-------------+\n",
      "\n"
     ]
    }
   ],
   "source": [
    "# Max and Min values\n",
    "userArtistDF.select([max('artistID'), min('artistID')]).show()"
   ]
  },
  {
   "cell_type": "markdown",
   "metadata": {},
   "source": [
    "We just discovered that we have a total of 148,111 users in our dataset. Similarly, we have a total of 1,631,028 artists in our dataset. The maximum values of `userID` and `artistID` are still smaller than the biggest number of integer type.  No additional transformation will be necessary to use these IDs.\n",
    "\n",
    "One thing we can see here is that SPARK SQL provides very concise and powerful methods for data analytics (compared to using RDD and their low-level API). You can see more examples [here](https://databricks.com/blog/2015/06/02/statistical-and-mathematical-functions-with-dataframes-in-spark.html)."
   ]
  },
  {
   "cell_type": "markdown",
   "metadata": {},
   "source": [
    "Next, we might want to understand better user activity and artist popularity.\n",
    "\n",
    "Here is a list of simple descriptive queries that helps us reaching these purposes:\n",
    "\n",
    "* How many times each user has played a song? This is a good indicator of who are the most active users of our service. Note that a very active user with many play counts does not necessarily mean that the user is also \"curious\"! Indeed, she could have played the same song several times.\n",
    "* How many play counts for each artist? This is a good indicator of the artist popularity. Since we do not have time information associated to our data, we can only build a, e.g., top-10 ranking of the most popular artists in the dataset. Later in the notebook, we will learn that our dataset has a very \"loose\" definition about artists: very often artist IDs point to song titles as well. This means we have to be careful when establishing popular artists. Indeed, artists whose data is \"well formed\" will have the correct number of play counts associated to them. Instead, artists that appear mixed with song titles may see their play counts \"diluted\" across their songs."
   ]
  },
  {
   "cell_type": "markdown",
   "metadata": {},
   "source": [
    "### Question 2\n",
    "\n",
    "#### Question 2.1\n",
    "<div class=\"alert alert-info\">\n",
    "How many times each user has played a song? Show 5 samples of the result.\n",
    "</div>"
   ]
  },
  {
   "cell_type": "code",
   "execution_count": 7,
   "metadata": {
    "collapsed": true
   },
   "outputs": [
    {
     "name": "stdout",
     "output_type": "stream",
     "text": [
      "[Row(userID=2289066, sum(playCount)=51), Row(userID=2289173, sum(playCount)=5938), Row(userID=2290086, sum(playCount)=1080), Row(userID=2291343, sum(playCount)=37), Row(userID=2291463, sum(playCount)=8802)]\n"
     ]
    }
   ],
   "source": [
    "# Compute user activity\n",
    "# We are interested in how many playcounts each user has scored.\n",
    "userActivity = userArtistDF.groupBy('userID').sum('playCount').collect()\n",
    "print(userActivity[0:5])\n"
   ]
  },
  {
   "cell_type": "markdown",
   "metadata": {},
   "source": [
    "#### Question 2.2\n",
    "<div class=\"alert alert-info\">\n",
    "Plot CDF (or ECDF) of the number of play counts per User ID.  \n",
    "\n",
    "Explain and comment the figure you just created:   \n",
    "<ul>\n",
    "<li>for example, look at important percentiles (25%, median, 75%, tails such as >90%) and cross check with what you have found above to figure out if the result is plausible. </li>\n",
    "<li>discuss about your users, with respect to the application domain we target in the notebook: you will notice that for some users, there is very little interaction with the system, which means that maybe reccommending something to them is going to be more difficult than for other users who interact more with the system. </li>\n",
    "<li>look at outliers and reason about their impact on your reccommender algorithm</li>\n",
    "</ul>\n",
    "</div>"
   ]
  },
  {
   "cell_type": "code",
   "execution_count": 8,
   "metadata": {
    "collapsed": true
   },
   "outputs": [
    {
     "name": "stdout",
     "output_type": "stream",
     "text": [
      "Median value 892.0\n",
      "Percentile value : < 25% : 204.0\n",
      "Percentile value : < 75% : 2800.0\n",
      "Percentile value : > 90% : [  6484.    7000.    7570.    8245.    9105.   10120.   11446.6  13297.4\n",
      "  16079.   21569.2 674412. ]\n",
      "[     0      1      2 ... 148108 148109 148110]\n"
     ]
    },
    {
     "data": {
      "image/png": "[encoded data removed]",
      "text/plain": [
       "<matplotlib.figure.Figure at 0x7f6e0158ae80>"
      ]
     },
     "metadata": {},
     "output_type": "display_data"
    }
   ],
   "source": [
    "pdf = pd.DataFrame(data=userActivity)\n",
    "Y=np.sort( pdf[1] )\n",
    "print('Median value {}'.format(np.median(Y)))\n",
    "print('Percentile value : < 25% : {}'.format(np.percentile(Y,25)))\n",
    "print('Percentile value : < 75% : {}'.format(np.percentile(Y,75)))\n",
    "print('Percentile value : > 90% : {}'.format(np.percentile(Y,[90,91,92,93,94,95,96,97,98,99,100])))\n",
    "yvals=np.arange(len(Y))/float(len(Y))\n",
    "\n",
    "print(np.arange(len(Y)))\n",
    "plt.figure(figsize=(15,5))\n",
    "plt.subplot(1,2,1)\n",
    "plt.plot( Y, yvals )\n",
    "plt.xlabel('Play Counts')\n",
    "plt.ylabel('ECDF')\n",
    "plt.grid(True,which=\"both\",ls=\"-\")\n",
    "plt.title('ECDF of number of play counts per User ID')\n",
    "#plt.show()\n",
    "\n",
    "plt.subplot(1,2,2)\n",
    "plt.semilogx( Y, yvals)\n",
    "plt.xlabel('Play Counts')\n",
    "plt.ylabel('ECDF')\n",
    "plt.grid(True,which=\"both\",ls=\"-\")\n",
    "plt.title('ECDF of number of play counts per User ID')\n",
    "plt.show()\n",
    "\n",
    "#plt.plot( Y, np.log10(yvals))"
   ]
  },
  {
   "cell_type": "markdown",
   "metadata": {},
   "source": [
    "<div class=\"alert alert-warning\"><font color=\"red\">The graph confirms the values we have bellow, which means 25% of users play the songs less than 200 times, and 10% of users play the songs more than 6000</font></div>"
   ]
  },
  {
   "cell_type": "markdown",
   "metadata": {},
   "source": [
    "#### Question 2.3\n",
    "\n",
    "<div class=\"alert alert-info\">\n",
    "How many play counts for each artist? Plot CDF or ECDF of the result.  \n",
    "\n",
    "Similarly to the previous question, you need to comment and interpret your result: what is the figure telling you?\n",
    "</div>"
   ]
  },
  {
   "cell_type": "code",
   "execution_count": 9,
   "metadata": {
    "collapsed": true
   },
   "outputs": [
    {
     "name": "stdout",
     "output_type": "stream",
     "text": [
      "[Row(artistID=1000313, sum(playCount)=128183), Row(artistID=1233634, sum(playCount)=15204), Row(artistID=5409, sum(playCount)=526693), Row(artistID=1001530, sum(playCount)=199573), Row(artistID=1007205, sum(playCount)=50348)]\n"
     ]
    }
   ],
   "source": [
    "# Compute artist popularity\n",
    "# We are interested in how many playcounts per artist\n",
    "# ATTENTION! Grouping by artistID may be problematic, as stated above.\n",
    "artistPopularity = userArtistDF.groupBy('artistID').sum('playCount').collect()\n",
    "print(artistPopularity[0:5])\n"
   ]
  },
  {
   "cell_type": "code",
   "execution_count": 10,
   "metadata": {
    "collapsed": true
   },
   "outputs": [
    {
     "name": "stdout",
     "output_type": "stream",
     "text": [
      "Median value 3.0\n",
      "Percentile value : < 25% : 1.0\n",
      "Percentile value : < 75% : 11.0\n",
      "Percentile value : > 90% : [4.50000e+01 5.20000e+01 6.30000e+01 7.60000e+01 9.60000e+01 1.26000e+02\n",
      " 1.76000e+02 2.68000e+02 4.93000e+02 1.40200e+03 2.50213e+06]\n",
      "[      0       1       2 ... 1631025 1631026 1631027]\n"
     ]
    },
    {
     "data": {
      "image/png": "[encoded data removed]",
      "text/plain": [
       "<matplotlib.figure.Figure at 0x7f6df90565f8>"
      ]
     },
     "metadata": {},
     "output_type": "display_data"
    }
   ],
   "source": [
    "pdf = pd.DataFrame(data=artistPopularity)\n",
    "Y = np.sort( pdf[1] )\n",
    "print('Median value {}'.format(np.median(Y)))\n",
    "print('Percentile value : < 25% : {}'.format(np.percentile(Y,25)))\n",
    "print('Percentile value : < 75% : {}'.format(np.percentile(Y,75)))\n",
    "print('Percentile value : > 90% : {}'.format(np.percentile(Y,[90,91,92,93,94,95,96,97,98,99,100])))\n",
    "yvals=np.arange(len(Y))/float(len(Y))\n",
    "\n",
    "print(np.arange(len(Y)))\n",
    "plt.figure(figsize=(15,5))\n",
    "plt.subplot(1,2,1)\n",
    "plt.plot( Y, yvals )\n",
    "plt.xlabel('Play Counts')\n",
    "plt.ylabel('ECDF')\n",
    "plt.grid(True,which=\"both\",ls=\"-\")\n",
    "plt.title('ECDF of number of play counts per User ID')\n",
    "#plt.show()\n",
    "\n",
    "plt.subplot(1,2,2)\n",
    "plt.semilogx( Y, yvals)\n",
    "plt.xlabel('Play Counts')\n",
    "plt.ylabel('ECDF')\n",
    "plt.grid(True,which=\"both\",ls=\"-\")\n",
    "plt.title('ECDF of number of play counts per User ID')\n",
    "plt.show()"
   ]
  },
  {
   "cell_type": "markdown",
   "metadata": {},
   "source": [
    "<div class=\"alert alert-warning\">//TO COmment later please</div>"
   ]
  },
  {
   "cell_type": "markdown",
   "metadata": {},
   "source": [
    "#### Question 2.4\n",
    "<div class=\"alert alert-info\">\n",
    "Plot a bar chart to show top 5 artists In terms of absolute play counts.  \n",
    "\n",
    "Comment the figure you just obtained: \n",
    "<ul>\n",
    "<li>are these reasonable results?</li>\n",
    "<li>is looking at top-5 artists enough to learn more about your data?</li>\n",
    "<li>do you see anything strange in the data?</li>\n",
    "</ul>\n",
    "</div>"
   ]
  },
  {
   "cell_type": "code",
   "execution_count": 11,
   "metadata": {
    "collapsed": true
   },
   "outputs": [
    {
     "name": "stdout",
     "output_type": "stream",
     "text": [
      "[Row(artistID=1000313, sum(playCount)=128183), Row(artistID=1233634, sum(playCount)=15204), Row(artistID=5409, sum(playCount)=526693), Row(artistID=1001530, sum(playCount)=199573), Row(artistID=1007205, sum(playCount)=50348), Row(artistID=6788449, sum(playCount)=30), Row(artistID=1008771, sum(playCount)=161), Row(artistID=1025880, sum(playCount)=342), Row(artistID=1007758, sum(playCount)=4805), Row(artistID=1147337, sum(playCount)=631)]\n",
      "[Row(artistID=979, sum(playCount)=2502130), Row(artistID=1000113, sum(playCount)=2259185), Row(artistID=4267, sum(playCount)=1930592), Row(artistID=1000024, sum(playCount)=1542806), Row(artistID=4468, sum(playCount)=1425942)]\n"
     ]
    },
    {
     "data": {
      "image/png": "[encoded data removed]",
      "text/plain": [
       "<matplotlib.figure.Figure at 0x7f6df904e518>"
      ]
     },
     "metadata": {},
     "output_type": "display_data"
    }
   ],
   "source": [
    "print(artistPopularity[:10])\n",
    "\n",
    "sortedArtist = sorted(artistPopularity, key = lambda x: -x[1])[0:5]\n",
    "print(sortedArtist)\n",
    "#artistPopularity : collection\n",
    "artistID = [w[0] for w in sortedArtist]\n",
    "#print(artistID)\n",
    "y_pos = range(len(sortedArtist))\n",
    "frequency = [w[1] for w in sortedArtist]\n",
    "\n",
    "plt.barh(y_pos, frequency[::-1], align='center', alpha=0.4)\n",
    "plt.yticks(y_pos, artistID[::-1])\n",
    "plt.xlabel('Play Count')\n",
    "plt.ylabel('Artist')\n",
    "plt.title('Top-10 Artist ID per play counts')\n",
    "plt.show()\n"
   ]
  },
  {
   "cell_type": "markdown",
   "metadata": {},
   "source": [
    "All seems clear right now, but ... wait a second! What about the problems indicated above about artist \"disambiguation\"? Are these artist ID we are using referring to unique artists? How can we make sure that such \"opaque\" identifiers point to different bands? Let's try to use some additional dataset to answer this question:  `artist_data.txt` dataset. This time, the schema of the dataset consists in:\n",
    "\n",
    "```\n",
    "artist ID: long int\n",
    "name: string\n",
    "```\n",
    "\n",
    "We will try to find whether a single artist has two different IDs."
   ]
  },
  {
   "cell_type": "markdown",
   "metadata": {},
   "source": [
    "### Question 3\n",
    "\n",
    "#### Question 3.1\n",
    "\n",
    "<div class=\"alert alert-info\">\n",
    "Load the data from `/datasets/lastfm/artist_data.txt` and use the SparkSQL API to show 5 samples.  \n",
    "\n",
    "<ul></ul>\n",
    "<div class=\"label label-success\">HINT:</div> If you encounter some error when parsing lines in data because of invalid entries, parameter `mode='DROPMALFORMED'` will help you to eliminate these entries. The suggested syntax is: `<df>.options(header='false', delimiter='\\t', mode='DROPMALFORMED')`.\n",
    "\n",
    "</div>"
   ]
  },
  {
   "cell_type": "code",
   "execution_count": 12,
   "metadata": {},
   "outputs": [
    {
     "name": "stdout",
     "output_type": "stream",
     "text": [
      "+--------+--------------------+\n",
      "|artistID|                name|\n",
      "+--------+--------------------+\n",
      "| 1134999|        06Crazy Life|\n",
      "| 6821360|        Pang Nakarin|\n",
      "|10113088|Terfel, Bartoli- ...|\n",
      "|10151459| The Flaming Sidebur|\n",
      "| 6826647|   Bodenstandig 3000|\n",
      "+--------+--------------------+\n",
      "only showing top 5 rows\n",
      "\n"
     ]
    }
   ],
   "source": [
    "customSchemaArtist = StructType([ \\\n",
    "    StructField(\"artistID\", LongType(), True), \\\n",
    "    StructField(\"name\", StringType(), True)])\n",
    "\n",
    "artistDF = sqlContext.read \\\n",
    "    .format('com.databricks.spark.csv') \\\n",
    "    .options(header='false', delimiter='\\t', mode='DROPMALFORMED') \\\n",
    "    .load(base + 'artist_data.txt', schema = customSchemaArtist)\n",
    "\n",
    "artistDF.cache()\n",
    "artistDF.show(5)"
   ]
  },
  {
   "cell_type": "markdown",
   "metadata": {},
   "source": [
    "#### Question 3.2\n",
    "<div class=\"alert alert-info\">\n",
    "Find 20 artists whose name contains `Aerosmith`. Take a look at artists that have ID equal to `1000010` and `2082323`. In your opinion, are they pointing to the same artist?  \n",
    "\n",
    "<ul></ul>\n",
    "<div class=\"label label-success\">HINT:</div> Function `locate(sub_string, string)` can be useful in this case.\n",
    "</div>"
   ]
  },
  {
   "cell_type": "code",
   "execution_count": 13,
   "metadata": {},
   "outputs": [
    {
     "name": "stdout",
     "output_type": "stream",
     "text": [
      "+--------+--------------------+\n",
      "|artistID|                name|\n",
      "+--------+--------------------+\n",
      "|10586006|Dusty Springfield...|\n",
      "| 6946007|    Aerosmith/RunDMC|\n",
      "|10475683|Aerosmith: Just P...|\n",
      "| 1083031|    Aerosmith/ G n R|\n",
      "| 6872848|Britney, Nsync, N...|\n",
      "|10586963|Green Day - Oasis...|\n",
      "|10028830|The Aerosmith Ant...|\n",
      "|10300357| Run-DMC + Aerosmith|\n",
      "| 2027746|Aerosmith by Musi...|\n",
      "| 1140418|[rap]Run DMC and ...|\n",
      "|10237208| Aerosmith + Run DMC|\n",
      "|10588537|Aerosmith, Kid Ro...|\n",
      "| 9934757|Aerosmith - Big Ones|\n",
      "|10437510|Green Day ft. Oas...|\n",
      "| 6936680| RUN DNC & Aerosmith|\n",
      "|10479781|      Aerosmith Hits|\n",
      "|10114147|Charlies Angels -...|\n",
      "| 1262439|Kid Rock, Run DMC...|\n",
      "| 7032554|Aerosmith & Run-D...|\n",
      "|10033592|          Aerosmith?|\n",
      "+--------+--------------------+\n",
      "only showing top 20 rows\n",
      "\n",
      "+--------+---------+\n",
      "|artistID|     name|\n",
      "+--------+---------+\n",
      "| 1000010|Aerosmith|\n",
      "+--------+---------+\n",
      "\n",
      "+--------+------------+\n",
      "|artistID|        name|\n",
      "+--------+------------+\n",
      "| 2082323|01 Aerosmith|\n",
      "+--------+------------+\n",
      "\n"
     ]
    }
   ],
   "source": [
    "# get artists whose name contains \"Aerosmith\"\n",
    "artistDF[locate(\"Aerosmith\", artistDF.name) > 0].show(20)\n",
    "\n",
    "# show two examples\n",
    "artistDF[artistDF.artistID==1000010].show()\n",
    "artistDF[artistDF.artistID==2082323].show()"
   ]
  },
  {
   "cell_type": "markdown",
   "metadata": {},
   "source": [
    "To answer this question correctly, we need to use an additional dataset `artist_alias.txt` which contains the ids of mispelled artists and standard artists. The schema of the dataset consists in:\n",
    "\n",
    "```\n",
    "mispelledID ID: long int\n",
    "standard ID: long int\n",
    "```"
   ]
  },
  {
   "cell_type": "markdown",
   "metadata": {},
   "source": [
    "#### Question 3.3\n",
    "<div class=\"alert alert-info\">\n",
    "Using SparkSQL API, load the dataset from `/datasets/lastfm/artist_alias.txt` then show 5 samples.\n",
    "</div>"
   ]
  },
  {
   "cell_type": "code",
   "execution_count": 16,
   "metadata": {},
   "outputs": [
    {
     "name": "stdout",
     "output_type": "stream",
     "text": [
      "+-----------+--------+\n",
      "|mispelledID|standard|\n",
      "+-----------+--------+\n",
      "|    1092764| 1000311|\n",
      "|    1095122| 1000557|\n",
      "|    6708070| 1007267|\n",
      "|   10088054| 1042317|\n",
      "|    1195917| 1042317|\n",
      "+-----------+--------+\n",
      "only showing top 5 rows\n",
      "\n"
     ]
    }
   ],
   "source": [
    "customSchemaArtistAlias = StructType([ \\\n",
    "    StructField('mispelledID', LongType(), True), \\\n",
    "    StructField('standard', LongType(), True)])\n",
    "\n",
    "artistAliasDF = sqlContext.read \\\n",
    "    .format('com.databricks.spark.csv') \\\n",
    "    .options(header='false', delimiter='\\t') \\\n",
    "    .load(base + 'artist_alias.txt', schema = customSchemaArtistAlias)\n",
    "\n",
    "artistAliasDF.cache()\n",
    "artistAliasDF.show(5)"
   ]
  },
  {
   "cell_type": "markdown",
   "metadata": {},
   "source": [
    "#### Question 3.4\n",
    "<div class=\"alert alert-info\">\n",
    "Verify the answer of question 3.2 (\"Are artists that have ID equal to `1000010` and `2082323` the same ?\") by finding the standard ids corresponding to the mispelled ids `1000010` and `2082323` respectively.\n",
    "</div>"
   ]
  },
  {
   "cell_type": "code",
   "execution_count": 17,
   "metadata": {},
   "outputs": [
    {
     "name": "stdout",
     "output_type": "stream",
     "text": [
      "+-----------+--------+\n",
      "|mispelledID|standard|\n",
      "+-----------+--------+\n",
      "+-----------+--------+\n",
      "\n",
      "+-----------+--------+\n",
      "|mispelledID|standard|\n",
      "+-----------+--------+\n",
      "|    2082323| 1000010|\n",
      "+-----------+--------+\n",
      "\n"
     ]
    }
   ],
   "source": [
    "artistAliasDF[ artistAliasDF.mispelledID == 1000010 ].show()\n",
    "artistAliasDF[ artistAliasDF.mispelledID == 2082323 ].show()\n",
    "\n",
    "# 1000010 is a standard id, so it haven't been considered as mispelled id in the dataset"
   ]
  },
  {
   "cell_type": "markdown",
   "metadata": {},
   "source": [
    "The result confirms the id 2082323 is the same artist as the 1000010. The name of the artist was misspelled."
   ]
  },
  {
   "cell_type": "markdown",
   "metadata": {},
   "source": [
    "### Question 4\n",
    "\n",
    "The mispelled or nonstandard information about artist make our results in the previous queries a bit \"sloppy\". To overcome this problem, we can replace all mispelled artist ids by the corresponding standard ids and re-compute the basic descriptive statistics on the \"amended\" data.\n",
    "First, we construct a \"dictionary\" that maps non-standard ids to a standard ones. Then this \"dictionary\" will be used to replace the mispelled artists.\n",
    "\n",
    "#### Question 4.1\n",
    "<div class=\"alert alert-info\">\n",
    "From data in the dataframe loaded from `/datasets/lastfm/artist_alias.txt`, construct a dictionary that maps each non-standard id to its standard id.  \n",
    "\n",
    "<div class=\"label label-success\">HINT:</div> Instead of using function `collect`, we can use `collectAsMap` to convert the collected data to a dictionary inline.\n",
    "</div>"
   ]
  },
  {
   "cell_type": "code",
   "execution_count": 36,
   "metadata": {},
   "outputs": [
    {
     "name": "stdout",
     "output_type": "stream",
     "text": [
      "+-----------+--------+\n",
      "|mispelledID|standard|\n",
      "+-----------+--------+\n",
      "|    6789612| 1000591|\n",
      "|    1262241| 1000591|\n",
      "|    6791455| 1000591|\n",
      "|    6694867| 1000591|\n",
      "|    1295140| 1000591|\n",
      "|    2127019| 1000591|\n",
      "|    2153974| 1000591|\n",
      "|    1232342| 1000591|\n",
      "|    1270720| 1000591|\n",
      "|    1238989| 1000591|\n",
      "|    2051851| 1000591|\n",
      "|    6794968| 1000591|\n",
      "|    2055818| 1000591|\n",
      "|    6676117| 1000591|\n",
      "|    2008951| 1000591|\n",
      "|    6679702| 1000591|\n",
      "|    6682384| 1000591|\n",
      "|    1330318| 1000591|\n",
      "|    6646693| 1000591|\n",
      "|    1290058| 1000591|\n",
      "+-----------+--------+\n",
      "only showing top 20 rows\n",
      "\n",
      "1000591\n"
     ]
    }
   ],
   "source": [
    "artistAliasDF[artistAliasDF.standard ==1000591].show(20)\n",
    "artistAlias = artistAliasDF.rdd.map(lambda row: ( row[0] , row[1])).collectAsMap()\n",
    "print(artistAlias[6682384])\n",
    "#print(artistAlias[1000591])"
   ]
  },
  {
   "cell_type": "markdown",
   "metadata": {},
   "source": [
    "#### Question 4.2\n",
    "<div class=\"alert alert-info\">\n",
    "Using the constructed dictionary in question 4.1, replace the non-standard artist ids in the dataframe that was loaded from `/datasets/lastfm/user_artist_data.txt` by the corresponding standard ids then show 5 samples.\n",
    "</div>\n",
    "\n",
    "\n",
    "**NOTE 1**: If an id doesn't exist in the dictionary as a mispelled id, it is really a standard id.\n",
    "\n",
    "\n",
    "Using funtion `map` on Spark Dataframe will give us an RDD. We can convert this RDD back to Dataframe by using `sqlContext.createDataFrame(rdd_name, sql_schema)`\n",
    "\n",
    "\n",
    "**NOTE 2**: be careful! you need to be able to verify that you indeed solved the problem of having bad artist IDs. In principle, for the new data to be correct, we should to have duplicate pairs (user, artist), potentially with different play counts, right? In answering the question, please **show** that you indeed fixed the problem. "
   ]
  },
  {
   "cell_type": "code",
   "execution_count": 65,
   "metadata": {},
   "outputs": [
    {
     "name": "stdout",
     "output_type": "stream",
     "text": [
      "+--------+-------+-----+\n",
      "|artistID| userID|count|\n",
      "+--------+-------+-----+\n",
      "| 1001291|1000002|    1|\n",
      "| 1003483|1000002|    1|\n",
      "| 1005374|1000002|    1|\n",
      "|    1289|1000002|    1|\n",
      "|     553|1000002|    1|\n",
      "| 1000698|1000019|    1|\n",
      "| 1003730|1000019|    1|\n",
      "| 1005663|1000019|    1|\n",
      "| 1005791|1000019|    1|\n",
      "| 1006044|1000019|    1|\n",
      "+--------+-------+-----+\n",
      "only showing top 10 rows\n",
      "\n",
      "+--------+-------+-----+\n",
      "|artistID| userID|count|\n",
      "+--------+-------+-----+\n",
      "| 1018110|2133748|   94|\n",
      "| 1082784|2052189|   71|\n",
      "|     122|2360120|   68|\n",
      "| 1000024|2302495|   65|\n",
      "| 1001819|1053375|   57|\n",
      "| 1000130|2214793|   54|\n",
      "|      82|2181817|   48|\n",
      "| 1021625|1000072|   46|\n",
      "| 1005386|2197708|   43|\n",
      "| 1000881|2117500|   41|\n",
      "+--------+-------+-----+\n",
      "only showing top 10 rows\n",
      "\n",
      "+-------+--------+---------+\n",
      "| userID|artistID|playCount|\n",
      "+-------+--------+---------+\n",
      "|1000002| 1000434|       89|\n",
      "|1000021| 1000434|        2|\n",
      "|1000606| 1000434|        4|\n",
      "|1001060| 1000434|        1|\n",
      "|1001190| 1000434|      129|\n",
      "|1002126| 1000434|       34|\n",
      "|1002489| 1000434|        1|\n",
      "|1004178| 1000434|        2|\n",
      "|1005445| 1000434|        4|\n",
      "|1034872| 1000434|       64|\n",
      "|1042762| 1000434|        2|\n",
      "|1054022| 1000434|        4|\n",
      "|1055676| 1000434|        2|\n",
      "|1060179| 1000434|        1|\n",
      "|1061846| 1000434|        3|\n",
      "|1067153| 1000434|       30|\n",
      "|2007918| 1000434|        1|\n",
      "|2009893| 1000434|        1|\n",
      "|2018083| 1000434|        2|\n",
      "|2025412| 1000434|        2|\n",
      "+-------+--------+---------+\n",
      "only showing top 20 rows\n",
      "\n",
      "+-------+--------+---------+\n",
      "| userID|artistID|playCount|\n",
      "+-------+--------+---------+\n",
      "|1000002| 1000518|       83|\n",
      "|1000021| 1000518|       10|\n",
      "|1000022| 1000518|        1|\n",
      "|1000028| 1000518|       20|\n",
      "|1000105| 1000518|        1|\n",
      "|1000221| 1000518|        1|\n",
      "|1000247| 1000518|        1|\n",
      "|1000251| 1000518|        1|\n",
      "|1000275| 1000518|       11|\n",
      "|1000296| 1000518|        1|\n",
      "|1000301| 1000518|        8|\n",
      "|1000357| 1000518|       74|\n",
      "|1000375| 1000518|        1|\n",
      "|1000535| 1000518|       78|\n",
      "|1000598| 1000518|        2|\n",
      "|1000606| 1000518|       26|\n",
      "|1000611| 1000518|        8|\n",
      "|1000626| 1000518|        1|\n",
      "|1000717| 1000518|        1|\n",
      "|1000736| 1000518|       11|\n",
      "+-------+--------+---------+\n",
      "only showing top 20 rows\n",
      "\n",
      "+-------+--------+---------+\n",
      "| userID|artistID|playCount|\n",
      "+-------+--------+---------+\n",
      "|1000002|       1|       55|\n",
      "|1000002| 1000006|       33|\n",
      "|1000002| 1000007|        8|\n",
      "|1000002| 1000009|      144|\n",
      "|1000002| 1000010|      314|\n",
      "|1000002| 1000013|        8|\n",
      "|1000002| 1000014|       42|\n",
      "|1000002| 1000017|       69|\n",
      "|1000002| 1000024|      329|\n",
      "|1000002| 1000025|        1|\n",
      "|1000002| 1000028|       17|\n",
      "|1000002| 1000031|       47|\n",
      "|1000002| 1000033|       15|\n",
      "|1000002| 1000042|        1|\n",
      "|1000002| 1000045|        1|\n",
      "|1000002| 1000054|        2|\n",
      "|1000002| 1000055|       25|\n",
      "|1000002| 1000056|        4|\n",
      "|1000002| 1000059|        2|\n",
      "|1000002| 1000062|       71|\n",
      "|1000002| 1000088|      157|\n",
      "|1000002| 1000099|       57|\n",
      "|1000002| 1000107|        4|\n",
      "|1000002| 1000113|       30|\n",
      "|1000002| 1000123|       27|\n",
      "|1000002| 1000127|       53|\n",
      "|1000002| 1000139|       56|\n",
      "|1000002| 1000140|       95|\n",
      "|1000002| 1000157|        2|\n",
      "|1000002| 1000183|       49|\n",
      "|1000002| 1000188|      125|\n",
      "|1000002| 1000201|        1|\n",
      "|1000002| 1000210|       23|\n",
      "|1000002| 1000243|        1|\n",
      "|1000002| 1000251|        4|\n",
      "|1000002| 1000260|        7|\n",
      "|1000002| 1000265|       16|\n",
      "|1000002| 1000266|       38|\n",
      "|1000002| 1000283|        3|\n",
      "|1000002| 1000288|        1|\n",
      "|1000002| 1000289|       36|\n",
      "|1000002| 1000293|        1|\n",
      "|1000002| 1000295|        2|\n",
      "|1000002| 1000302|        1|\n",
      "|1000002| 1000305|        5|\n",
      "|1000002| 1000315|      155|\n",
      "|1000002| 1000317|       35|\n",
      "|1000002| 1000322|       98|\n",
      "|1000002| 1000323|      236|\n",
      "|1000002| 1000325|        4|\n",
      "|1000002| 1000340|       17|\n",
      "|1000002| 1000343|        2|\n",
      "|1000002| 1000382|        3|\n",
      "|1000002| 1000424|        1|\n",
      "|1000002| 1000518|       89|\n",
      "|1000002| 1000438|       45|\n",
      "|1000002| 1000440|       14|\n",
      "|1000002| 1000450|        3|\n",
      "|1000002| 1000451|       54|\n",
      "|1000002| 1000456|        4|\n",
      "|1000002| 1000457|        1|\n",
      "|1000002| 1000481|        2|\n",
      "|1000002| 1000498|        3|\n",
      "|1000002| 1000503|       16|\n",
      "|1000002| 1000515|       18|\n",
      "|1000002| 1000518|       83|\n",
      "|1000002| 1000520|       12|\n",
      "|1000002| 1000522|       72|\n",
      "|1000002| 1000569|        1|\n",
      "|1000002| 1000597|       23|\n",
      "|1000002| 1000620|        4|\n",
      "|1000002| 1000623|        2|\n",
      "|1000002| 1000625|        2|\n",
      "|1000002| 1000630|        4|\n",
      "|1000002| 1000631|       27|\n",
      "|1000002| 1000632|      119|\n",
      "|1000002| 1000639|        3|\n",
      "|1000002| 1000660|        2|\n",
      "|1000002| 1000674|        1|\n",
      "|1000002| 1000676|       17|\n",
      "|1000002| 1000677|       35|\n",
      "|1000002| 1000716|        1|\n",
      "|1000002| 1000724|       67|\n",
      "|1000002| 1000726|        5|\n",
      "|1000002| 1000727|        5|\n",
      "|1000002| 1000730|       10|\n",
      "|1000002| 1000737|      104|\n",
      "|1000002| 1000738|        4|\n",
      "|1000002| 1000740|        2|\n",
      "|1000002| 1000744|        1|\n",
      "|1000002| 1000751|        3|\n",
      "|1000002| 1000761|        2|\n",
      "|1000002| 1001514|        1|\n",
      "|1000002| 1000764|        2|\n",
      "|1000002| 1000766|        1|\n",
      "|1000002| 1000768|        2|\n",
      "|1000002| 1000773|        3|\n",
      "|1000002| 1000781|       11|\n",
      "|1000002| 1000840|        3|\n",
      "|1000002| 1000848|        1|\n",
      "+-------+--------+---------+\n",
      "only showing top 100 rows\n",
      "\n",
      "+-------+--------+---------+-----------+--------+\n",
      "| userID|artistID|playCount|mispelledID|standard|\n",
      "+-------+--------+---------+-----------+--------+\n",
      "|1000002| 1000434|       89|    1000434| 1000518|\n",
      "|1000002| 1000762|        1|    1000762| 1001514|\n",
      "|1000002| 1001220|        1|    1001220|     721|\n",
      "|1000002| 1001410|        5|    1001410| 1034635|\n",
      "|1000002| 1002498|        1|    1002498|    3066|\n",
      "|1000002| 1003377|        1|    1003377| 6691692|\n",
      "|1000002| 1003633|        1|    1003633| 1237611|\n",
      "|1000002| 1006102|        4|    1006102| 1034635|\n",
      "|1000002| 1007652|        1|    1007652| 1001172|\n",
      "|1000002| 1010219|        2|    1010219| 1008391|\n",
      "|1000002| 1017405|        1|    1017405| 2006683|\n",
      "|1000002| 1059598|        2|    1059598| 1000840|\n",
      "|1000002|    3197|        2|       3197| 2058809|\n",
      "|1000002|    5702|       76|       5702| 1066440|\n",
      "|1000002|     709|        2|        709| 2003588|\n",
      "|1000019| 1000287|        1|    1000287| 1239413|\n",
      "|1000019| 1000586|        1|    1000586| 2001739|\n",
      "|1000019| 1000943|        6|    1000943| 1247540|\n",
      "|1000019| 1001379|        4|    1001379| 1049809|\n",
      "|1000019| 1002143|        1|    1002143|    4377|\n",
      "|1000019| 1003979|       15|    1003979| 1247540|\n",
      "|1000019| 1004091|        2|    1004091| 1001129|\n",
      "|1000019| 1004444|        1|    1004444| 1024145|\n",
      "|1000019| 1004494|        1|    1004494|     553|\n",
      "|1000019| 1005489|        4|    1005489| 2003588|\n",
      "|1000019| 1005746|        2|    1005746| 1003731|\n",
      "|1000019| 1005784|       28|    1005784| 1116582|\n",
      "|1000019| 1006040|        5|    1006040| 1013702|\n",
      "|1000019| 1006251|        1|    1006251|     792|\n",
      "|1000019| 1008202|        4|    1008202| 1002519|\n",
      "|1000019| 1010146|        2|    1010146| 1034635|\n",
      "|1000019| 1040022|        1|    1040022| 1005059|\n",
      "|1000019| 1042256|        1|    1042256| 1279485|\n",
      "|1000019| 1043827|        1|    1043827| 6910087|\n",
      "|1000019| 1082210|        1|    1082210| 1239362|\n",
      "|1000020| 1001030|        9|    1001030|      15|\n",
      "|1000020| 1001864|        2|    1001864| 1001864|\n",
      "|1000020| 1001885|        1|    1001885| 1268554|\n",
      "|1000020| 1006102|       14|    1006102| 1034635|\n",
      "|1000020| 1006322|        4|    1006322| 1006322|\n",
      "|1000020| 1053080|        1|    1053080| 1004461|\n",
      "|1000020|      15|        8|         15|      15|\n",
      "|1000020| 6610959|        4|    6610959| 1009898|\n",
      "|1000020|     754|      209|        754|     754|\n",
      "|1000021| 1000434|        2|    1000434| 1000518|\n",
      "|1000021|     709|       84|        709| 2003588|\n",
      "|1000022| 1000129|        6|    1000129|    5810|\n",
      "|1000022| 1000762|        1|    1000762| 1001514|\n",
      "|1000022| 1001325|       11|    1001325|    5743|\n",
      "|1000022| 1001408|        2|    1001408| 1100169|\n",
      "|1000022| 1006577|        1|    1006577| 1261516|\n",
      "|1000022| 1006661|        2|    1006661| 1172842|\n",
      "|1000022| 1008795|        7|    1008795| 1002735|\n",
      "|1000022| 1021484|        1|    1021484| 1234336|\n",
      "|1000022| 1037607|        1|    1037607| 1234421|\n",
      "|1000022| 1039746|        3|    1039746| 1072969|\n",
      "|1000022| 1048604|        2|    1048604| 1000789|\n",
      "|1000022| 1075482|        1|    1075482| 1264703|\n",
      "|1000022| 1114543|        1|    1114543|    1942|\n",
      "|1000022| 1292994|        2|    1292994| 1001196|\n",
      "|1000022| 6868142|       17|    6868142| 6866886|\n",
      "|1000022|     709|       54|        709| 2003588|\n",
      "|1000023| 1000110|       10|    1000110| 1034635|\n",
      "|1000023| 1000129|        1|    1000129|    5810|\n",
      "|1000023| 1016805|        4|    1016805|    3195|\n",
      "|1000023| 1032263|        3|    1032263| 1093795|\n",
      "|1000023|    2608|        1|       2608| 1034635|\n",
      "|1000023|    5702|        9|       5702| 1066440|\n",
      "|1000023|     709|      137|        709| 2003588|\n",
      "|1000025| 1001220|        3|    1001220|     721|\n",
      "|1000025|     709|        6|        709| 2003588|\n",
      "|1000027| 1000945|        3|    1000945| 1018807|\n",
      "|1000028| 1000068|        2|    1000068|    2977|\n",
      "|1000028| 1000346|        2|    1000346| 1000358|\n",
      "|1000028| 1000935|        1|    1000935| 6747938|\n",
      "|1000028| 1002165|        2|    1002165| 1012176|\n",
      "|1000028| 1003678|        1|    1003678| 1238335|\n",
      "|1000028| 1318961|        3|    1318961| 1001348|\n",
      "|1000028|    3197|        1|       3197| 2058809|\n",
      "|1000028|     709|        1|        709| 2003588|\n",
      "|1000029| 1000103|        4|    1000103| 2064752|\n",
      "|1000029| 1001609|        1|    1001609| 1240940|\n",
      "|1000029| 1001613|        1|    1001613| 1029372|\n",
      "|1000029| 1001614|        1|    1001614|    1161|\n",
      "|1000029| 1001620|        1|    1001620| 1014454|\n",
      "|1000029| 1001629|        2|    1001629| 1021625|\n",
      "|1000029| 1001631|        1|    1001631|    4469|\n",
      "|1000029| 1001633|        1|    1001633| 1002521|\n",
      "|1000029| 1001639|        1|    1001639| 1021625|\n",
      "|1000029| 1001962|        1|    1001962| 1021625|\n",
      "|1000029| 1001963|        1|    1001963| 1029372|\n",
      "|1000029|    2038|        1|       2038| 1284440|\n",
      "|1000030| 1000103|        1|    1000103| 2064752|\n",
      "|1000033| 1001325|        1|    1001325|    5743|\n",
      "|1000033| 1001410|        1|    1001410| 1034635|\n",
      "|1000033| 1001517|        3|    1001517| 1043054|\n",
      "|1000033| 1002139|        1|    1002139| 1018807|\n",
      "|1000033| 1002396|        2|    1002396| 1274328|\n",
      "|1000033| 1002498|        1|    1002498|    3066|\n",
      "|1000033| 1002733|        5|    1002733| 7031771|\n",
      "+-------+--------+---------+-----------+--------+\n",
      "only showing top 100 rows\n",
      "\n",
      "The script takes 106.188982 seconds\n"
     ]
    }
   ],
   "source": [
    "from time import time\n",
    "\n",
    "def replaceMispelledIDs(fields):\n",
    "    finalID = artistAlias.get(fields[1], fields[1])\n",
    "    return (fields[0], finalID, fields[2])\n",
    "\n",
    "t0 = time()\n",
    "\n",
    "newUserArtistDF = sqlContext.createDataFrame(\n",
    "    userArtistDF.rdd.map(replaceMispelledIDs), \n",
    "    userArtistDataSchema\n",
    ")\n",
    "print('userArtistDataFrame from the beginning :')\n",
    "df1 = userArtistDF.groupBy([('artistID'),('userID')]).count().orderBy('count', ascending=False).show(10)\n",
    "#df1.show()\n",
    "\n",
    "print('newUserArtistDataFrame after changing the mispelled artistID:')\n",
    "df2 = newUserArtistDF.groupBy([('artistID'),('userID')]).count().orderBy('count', ascending=False).show(10)\n",
    "#df2.show()\n",
    "\n",
    "# Particular cases observed from data\n",
    "userArtistDF[userArtistDF.artistID == 1000434].show()\n",
    "userArtistDF[userArtistDF.artistID == 1000518].show()\n",
    "\n",
    "#newUserArtistDF[(newUserArtistDF.userID == 1000002) & (newUserArtistDF.artistID == 1000518)].show()\n",
    "\n",
    "newUserArtistDF[(newUserArtistDF.userID == 1000002)].show(100)\n",
    "\n",
    "tempdf = userArtistDF.join(artistAliasDF, userArtistDF.artistID == artistAliasDF.mispelledID)\n",
    "\n",
    "#display(tempdf)\n",
    "tempdf.show(100)\n",
    "\n",
    "\n",
    "t1 = time()\n",
    "\n",
    "print('The script takes %f seconds' %(t1-t0))"
   ]
  },
  {
   "cell_type": "markdown",
   "metadata": {},
   "source": [
    "#### Question 4.3\n",
    "<div class=\"alert alert-info\">\n",
    "Spark actions are executed through a set of stages, separated by distributed \"shuffle\" operations. Spark can be instructed to **automatically and efficiently** broadcast common data needed by tasks within **each stage**. The data broadcasted this way is cached in **serialized form** and deserialized before running each task.   \n",
    "<ul> </ul>\n",
    "We can thus improve our answer to question 4.2: we can reduce the communication cost by shipping the \"dictionary\" in a more efficient way by using `broadcast variable`. Broadcast variables allow the programmer to keep a read-only variable cached on **each machine** rather than shipping a copy of it with tasks. They are cached in deserialized form. They can be used, for example, to give every node a copy of a large input dataset in an efficient manner.   \n",
    "<ul></ul>\n",
    "The broadcast of variable `v` can be created by `bV = sc.broadcast(v)`. Then value of this broadcast variable can be access via `bV.value`  \n",
    "\n",
    "<ul></ul>\n",
    "To question is then: using a broadcast variable, modify the script in question 4.2 to get better performance in terms of running time.\n",
    "</div>\n"
   ]
  },
  {
   "cell_type": "markdown",
   "metadata": {},
   "source": [
    "```python\n",
    "from time import time\n",
    "\n",
    "bArtistAlias = sc.broadcast(artistAlias)\n",
    "\n",
    "def replaceMispelledIDs(fields):\n",
    "    finalID = bArtistAlias.value.get(... , ...)\n",
    "    return (... , ..., ...)\n",
    "\n",
    "t0 = time()\n",
    "\n",
    "newUserArtistDF = sqlContext.createDataFrame(\n",
    "    userArtistDF.rdd.map(replaceMispelledIDs), \n",
    "    userArtistDataSchema\n",
    ")\n",
    "newUserArtistDF.show(5)\n",
    "t1 = time()\n",
    "\n",
    "print('The script takes %f seconds' %(t1-t0))\n",
    "newUserArtistDF = newUserArtistDF.cache()\n",
    "```"
   ]
  },
  {
   "cell_type": "markdown",
   "metadata": {},
   "source": [
    "Although having some advantages, explicitly creating broadcast variables is only useful when tasks across multiple stages need the same data or when caching the data in deserialized form is important."
   ]
  },
  {
   "cell_type": "markdown",
   "metadata": {},
   "source": [
    "### Question 5\n",
    "\n",
    "Well, our data frame contains clean and \"standard\" data. We can use it to redo previous statistic queries.\n",
    "\n",
    "#### Question 5.1\n",
    "<div class=\"alert alert-info\">\n",
    "How many unique artists? Compare with the result when using old data.\n",
    "</div>"
   ]
  },
  {
   "cell_type": "markdown",
   "metadata": {},
   "source": [
    "```python\n",
    "uniqueArtists = newUserArtistDF. ...\n",
    "\n",
    "print(\"Total n. of artists: \", uniqueArtists)\n",
    "```"
   ]
  },
  {
   "cell_type": "markdown",
   "metadata": {},
   "source": [
    "#### Question 5.2\n",
    "\n",
    "<div class=\"alert alert-info\">\n",
    "Who are the top-10 artistis?\n",
    "<ul>\n",
    "  <li>In terms of absolute play counts</li>\n",
    "  <li>In terms of \"audience size\", that is, how many users listened to one of their track at least once</li>\n",
    "</ul>  \n",
    "\n",
    "Plot the results, and explain the figures you obtain.\n",
    "<div>"
   ]
  },
  {
   "cell_type": "markdown",
   "metadata": {},
   "source": [
    "```python\n",
    "# calculate top-10 artists in term of play counts\n",
    "top10ArtistsPC = newUserArtistDF.groupBy( ... ).sum( ... ).orderBy('sum(playCount)', ascending=0).take(10)\n",
    "\n",
    "y_pos = range(len(top10ArtistsPC))\n",
    "pdf = pd.DataFrame(data=top10ArtistsPC)\n",
    "\n",
    "plt.barh(y_pos, pdf[1][::-1], align='center', alpha=0.4)\n",
    "plt.yticks(y_pos, pdf[0][::-1])\n",
    "plt.xlabel('Play Count')\n",
    "plt.ylabel('Artist')\n",
    "plt.title('Top-10 Artist ID per play counts')\n",
    "plt.show()\n",
    "```"
   ]
  },
  {
   "cell_type": "markdown",
   "metadata": {},
   "source": [
    "#### Question 5.3\n",
    "\n",
    "<div class=\"alert alert-info\">\n",
    "Who are the top-10 users?\n",
    "<ul>\n",
    "  <li>In terms of absolute play counts</li>\n",
    "  <li>In terms of \"curiosity\", that is, how many different artists they listened to</li>\n",
    "\n",
    "</ul>  \n",
    "\n",
    "Plot the results\n",
    "</div>"
   ]
  },
  {
   "cell_type": "markdown",
   "metadata": {},
   "source": [
    "```python\n",
    "# calculate top 10 users interm of play counts\n",
    "top10UsersByPlayCount = newUserArtistDF. ...\n",
    "\n",
    "y_pos = range(len(top10UsersByPlayCount))\n",
    "pdf = pd.DataFrame(data=top10UsersByPlayCount)\n",
    "\n",
    "plt.barh(y_pos, pdf[1][::-1], align='center', alpha=0.4)\n",
    "plt.yticks(y_pos, pdf[0][::-1])\n",
    "plt.xlabel('Play Count')\n",
    "plt.ylabel('User')\n",
    "plt.title('Top-10 Users ID per play counts')\n",
    "plt.show()\n",
    "```"
   ]
  },
  {
   "cell_type": "markdown",
   "metadata": {},
   "source": [
    "```python\n",
    "# calculate top 10 users interm of curiosity\n",
    "top10UsersByCuriosity = (\n",
    "                            ...\n",
    "                            ...\n",
    "                            ...\n",
    "                         )\n",
    "\n",
    "y_pos = range( ... )\n",
    "pdf = ...\n",
    "\n",
    "plt.barh( ... )\n",
    "...\n",
    "...\n",
    "...\n",
    "```"
   ]
  },
  {
   "cell_type": "markdown",
   "metadata": {},
   "source": [
    "Now we have some valuable information about the data. It's the time to study how to build a statistical models."
   ]
  },
  {
   "cell_type": "markdown",
   "metadata": {},
   "source": [
    "# 2. Build a statistical models to make recommendations\n",
    "\n",
    "## 2.1 Introduction to recommender systems\n",
    "\n",
    "In a recommendation-system application there are two classes of entities, which we shall refer to as `users` and `items`. Users have preferences for certain items, and these preferences must be inferred from the data. The data itself is represented as a `preference matrix` $A$, giving for each user-item pair, a value that represents what is known about the degree of preference of that user for that item. The table below is an example for a `preference matrix` of 5 users and `k` items. The `preference matrix` is also known as `utility matrix`.\n",
    "\n",
    "| | IT1 | IT2 | IT3 | ... | ITk |\n",
    "|---|---|---|---|---|---|\n",
    "| U1 | 1 |  | 5 | ... | 3 |\n",
    "| U2 |  | 2 |  | ... | 2 |\n",
    "| U3 | 5 |  | 3 | ... |  |\n",
    "| U4 | 3 | 3 |  | ... | 4 |\n",
    "| U5 |  | 1 |  | ... | ... |\n",
    "\n",
    "The value of row i, column j expresses how much does user `i` like item `j`. The values are often the rating scores of users for items. An unknown value implies that we have no explicit information about the user's preference for the item. The goal of a recommendation system is to predict \"the blanks\" in the `preference matrix`. For example, assume that the rating score is from 1 (dislike) to 5 (love), would user `U5` like `IT3` ? We have two approaches:\n",
    "\n",
    "* Designing our recommendation system to take into account properties of items such as brand, category, price... or even the similarity of their names. We can denote the similarity of items `IT2` and `IT3`, and then conclude that because user `U5` did not like `IT2`, they were unlikely to enjoy SW2 either.\n",
    "\n",
    "* We might observe that the people who rated both `IT2` and `IT3` tended to give them similar ratings. Thus, we could conclude that user `U5` would also give `IT3` a low rating, similar to `U5`'s rating of `IT2`\n",
    "\n",
    "It is not necessary to predict every blank entry in a `utility matrix`. Rather, it is only necessary to discover some entries in each row that are likely to be high. In most applications, the recommendation system does not oﬀer users a ranking of all items, but rather suggests a few that the user should value highly. It may not even be necessary to ﬁnd all items with the highest expected ratings, but only to ﬁnd a large subset of those with the highest ratings.\n",
    "\n",
    "\n",
    "## 2.2 Families of recommender systems\n",
    "\n",
    "In general, recommender systems can be categorized into two groups:\n",
    "\n",
    "* **Content-Based** systems focus on properties of items. Similarity of items is determined by measuring the similarity in their properties.\n",
    "\n",
    "* **Collaborative-Filtering** systems focus on the relationship between users and items. Similarity of items is determined by the similarity of the ratings of those items by the users who have rated both items.\n",
    "\n",
    "In the usecase of this notebook, artists take the role of `items`, and `users` keep the same role as `users`.\n",
    "Since we have no information about `artists`, except their names, we cannot build a `content-based` recommender system.\n",
    "\n",
    "Therefore, in the rest of this notebook, we only focus on `Collaborative-Filtering` algorithms.\n",
    "\n",
    "## 2.3 Collaborative-Filtering \n",
    "In this section, we study a member of a broad class of algorithms called `latent-factor` models. They try to explain observed interactions between large numbers of users and products through a relatively small number of unobserved, underlying reasons. It is analogous to explaining why millions of people buy a particular few of thousands of possible albums by describing users and albums in terms of tastes for perhaps tens of genres, tastes which are **not directly observable or given** as data. \n",
    "\n",
    "First, we formulate the learning problem as a matrix completion problem. Then, we will use a type of `matrix factorization` model to \"fill in\" the blanks.  We are given implicit ratings that users have given certain items (that is, the number of times they played a particular artist) and our goal is to predict their ratings for the rest of the items. Formally, if there are $n$ users and $m$ items, we are given an $n \\times m$ matrix $R$ in which the generic entry $(u, i)$ represents the rating for item $i$ by user $u$. **Matrix $R$ has many missing entries indicating unobserved ratings, and our task is to estimate these unobserved ratings**.\n",
    "\n",
    "A popular approach to the matrix completion problem is **matrix factorization**, where we want to \"summarize\" users and items with their **latent factors**.\n",
    "\n",
    "### 2.3.1 Basic idea and an example of Matrix Factorization\n",
    "For example, given a preference matrix 5x5 as below, we want to approximate this matrix into the product of two smaller matrixes $X$ and $Y$ .\n",
    "\n",
    "$$\n",
    "M = \n",
    "\\begin{bmatrix}\n",
    " 5 & 2 & 4 & 4 & 3 \\\\\n",
    " 3 & 1 & 2 & 4 & 1 \\\\\n",
    " 2 &  & 3 & 1 & 4 \\\\\n",
    " 2 & 5 & 4 & 3 & 5 \\\\\n",
    " 4 & 4 & 5 & 4 &  \\\\\n",
    "\\end{bmatrix}\n",
    "\\approx M^\\prime =\n",
    "\\begin{bmatrix}\n",
    " x_{11} & x_{12} \\\\\n",
    " x_{21} & x_{22} \\\\\n",
    " x_{31} & x_{32} \\\\\n",
    " x_{41} & x_{42} \\\\\n",
    " x_{51} & x_{52} \\\\\n",
    "\\end{bmatrix}\n",
    "\\times\n",
    "\\begin{bmatrix}\n",
    " y_{11} & y_{12} & y_{13} & y_{14} & y_{15} \\\\\n",
    " y_{21} & y_{22} & y_{23} & y_{24} & y_{25} \\\\\n",
    "\\end{bmatrix}\n",
    "$$\n",
    "\n",
    "$M^\\prime$ is an approximation that is as close to A as possible. To calculate how far from $M$ $M^\\prime$ is, we often calculate the sum of squared distances of non-empty elements in $M$ and the corresponding elements in $M^\\prime$.\n",
    "In this way, for $M^\\prime$, besides the approximated elements in $M$, we also have the non-observed elements. Therefore, to see how much does user `i` like item `j`, we simply pick up the value of $M^\\prime_{i,j}$.\n",
    "\n",
    "The challenge is how to calculate $X$ and $Y$. The bad news is that this can't be solved directly for both the best $X$ and best $Y$ at the same time. Fortunately, if $Y$ is known, we can calculate the best of $X$, and vice versa. It means from the initial values of $X$ and $Y$ in the beginning, we calculate the best $X$ according to $Y$, and then calculate the best $Y$ according to the new $X$. This process is repeated until the distance from $XY$ to $M$ is small. It's simple, right ?\n",
    "\n",
    "Let's take an example. To compute the approximation for the above 5x5 matrix $M$, first, we initialize the value of $X$ and $Y$ as below.\n",
    "\n",
    "$$\n",
    "M^\\prime = X \\times Y =\n",
    "\\begin{bmatrix}\n",
    " 1 & 1 \\\\\n",
    " 1 & 1 \\\\\n",
    " 1 & 1 \\\\\n",
    " 1 & 1 \\\\\n",
    " 1 & 1 \\\\\n",
    "\\end{bmatrix}\n",
    "\\times\n",
    "\\begin{bmatrix}\n",
    " 1 & 1 & 1 & 1 & 1 \\\\\n",
    " 1 & 1 & 1 & 1 & 1 \\\\\n",
    "\\end{bmatrix}\n",
    "=\n",
    "\\begin{bmatrix}\n",
    " 2 & 2 & 2 & 2 & 2 \\\\\n",
    " 2 & 2 & 2 & 2 & 2 \\\\\n",
    " 2 & 2 & 2 & 2 & 2 \\\\\n",
    " 2 & 2 & 2 & 2 & 2 \\\\\n",
    " 2 & 2 & 2 & 2 & 2 \\\\\n",
    "\\end{bmatrix}\n",
    "$$\n",
    "\n",
    "With the initial iteration, we calculate the the Root-Mean-Square Error from $XY$ to $M$.\n",
    "\n",
    "Consider the ﬁrst rows of $M$ and $XY$ . We subtract the first row of $XY$ from the entries in the ﬁrst row of $M$, to get $3,0,2,2,1$. We square and sum these to get $18$. \n",
    "\n",
    "In the second row, we do the same to get $1,−1,0,2,−1$, square and sum to get $7$. \n",
    "\n",
    "In the third row, the second column is blank, so that entry is ignored when computing the RMSE. The diﬀerences are $0,1,−1,2$ and the sum of squares is $6$. \n",
    "\n",
    "For the fourth row, the diﬀerences are $0,3,2,1,3$ and the sum of squares is $23$. \n",
    "\n",
    "The ﬁfth row has a blank entry in the last column, so the diﬀerences are $2,2,3,2$ and the sum of squares is $21$. \n",
    "\n",
    "When we sum the sums from each of the ﬁve rows, we get $18+7+6+23+21 = 75$. So, $RMSE=\\sqrt{75/23}=1.806$ where $23$ is the number of non-empty values in $M$.\n",
    "\n",
    "Next, with the given value of $Y$, we calculate $X$ by finding the best value for $X_{11}$.\n",
    "\n",
    "$$\n",
    "M^\\prime = X \\times Y =\n",
    "\\begin{bmatrix}\n",
    " x & 1 \\\\\n",
    " 1 & 1 \\\\\n",
    " 1 & 1 \\\\\n",
    " 1 & 1 \\\\\n",
    " 1 & 1 \\\\\n",
    "\\end{bmatrix}\n",
    "\\times\n",
    "\\begin{bmatrix}\n",
    " 1 & 1 & 1 & 1 & 1 \\\\\n",
    " 1 & 1 & 1 & 1 & 1 \\\\\n",
    "\\end{bmatrix}\n",
    "=\n",
    "\\begin{bmatrix}\n",
    " x+1 & x+1 & x+1 & x+1 & x+1 \\\\\n",
    " 2 & 2 & 2 & 2 & 2 \\\\\n",
    " 2 & 2 & 2 & 2 & 2 \\\\\n",
    " 2 & 2 & 2 & 2 & 2 \\\\\n",
    " 2 & 2 & 2 & 2 & 2 \\\\\n",
    "\\end{bmatrix}\n",
    "$$\n",
    "\n",
    "Now, to minimize the $RMSE$  we minimize the difference of the first rows $(5−(x+1))^2 + (2−(x+1))^2 + (4−(x+1))^2 + (4−(x+1))^2 + (3−(x+1))^2$. By  taking the derivative and set that equal to 0, we pick $x=2.6$\n",
    "\n",
    "Given the new value of $X$, we can calculate the best value for $Y$.\n",
    "\n",
    "$$\n",
    "M^\\prime = X \\times Y =\n",
    "\\begin{bmatrix}\n",
    " 2.6 & 1 \\\\\n",
    " 1 & 1 \\\\\n",
    " 1 & 1 \\\\\n",
    " 1 & 1 \\\\\n",
    " 1 & 1 \\\\\n",
    "\\end{bmatrix}\n",
    "\\times\n",
    "\\begin{bmatrix}\n",
    " y & 1 & 1 & 1 & 1 \\\\\n",
    " 1 & 1 & 1 & 1 & 1 \\\\\n",
    "\\end{bmatrix}\n",
    "=\n",
    "\\begin{bmatrix}\n",
    " 3.6 & 3.6 & 3.6 & 3.6 & 3.6 \\\\\n",
    " 2 & 2 & 2 & 2 & 2 \\\\\n",
    " 2 & 2 & 2 & 2 & 2 \\\\\n",
    " 2 & 2 & 2 & 2 & 2 \\\\\n",
    " 2 & 2 & 2 & 2 & 2 \\\\\n",
    "\\end{bmatrix}\n",
    "$$\n",
    "\n",
    "By doing the same process as before, we can pick value for $y=1.617$. After that, we can check if the $RMSE$ is not converged, we continue to update $X$ by $Y$ and vice versa. In this example, for simple, we only update one element of each matrix in each iteration. In practice, we can update a full row or full matrix at once.\n"
   ]
  },
  {
   "cell_type": "markdown",
   "metadata": {},
   "source": [
    "### 2.3.2 Matrix Factorization: Objective and ALS Algorithm on a Single Machine\n",
    "\n",
    "More formally, in general, we select $k$ latent features, and describe each user $u$ with a $k-$dimensional vector $x_u$, and each item $i$ with a $k-$dimensional vector $y_i$.\n",
    "\n",
    "Then, to predict user $u$'s rating for item $i$, we do as follows: $ r_{ui} \\approx x_{u}^{T}y_i$.\n",
    "\n",
    "This can be put, more elegantly, in a matrix form. Let $x_1, \\cdots x_n \\in \\mathbb{R}^k$ be the factors for the users, and $y_1, \\cdots y_m \\in \\mathbb{R}^k$ the factors for the items. The $k \\times n$ user matrix $X$ and the $k \\times m$ item matrix $Y$ are then defined by:\n",
    "\n",
    "$$\n",
    "X = \n",
    "\\begin{bmatrix}\n",
    " |   &         & |  \\\\\n",
    "x_1  &  \\cdots & x_n\\\\\n",
    " |   &         & |  \\\\\n",
    "\\end{bmatrix}\n",
    "$$\n",
    "\n",
    "$$\n",
    "Y = \n",
    "\\begin{bmatrix}\n",
    " |   &         & |  \\\\\n",
    "y_1  &  \\cdots & y_i\\\\\n",
    " |   &         & |  \\\\\n",
    "\\end{bmatrix}\n",
    "$$\n",
    "\n",
    "Our goal is to estimate the complete ratings matrix $R \\approx X^{T} Y$. We can formulate this problem as an optimization problem in which we aim to minimize an objective function and find optimal $X$ and $Y$ . In particular, we aim to minimize the least squares error of the observed ratings (and regularize):\n",
    "\n",
    "$$\n",
    "\\min_{X,Y} \\sum_{r_{ui} \\text{observed}}(r_{ui} - x_{u}^{T}y_i)^2 + \\lambda \\left( \\sum_{u} \\|x_u\\|^2 + \\sum_{i} \\|y_i\\|^2 \\right) \n",
    "$$\n",
    "\n",
    "Notice that this objective is non-convex (because of the $x_{u}^{T} y_i$ term); in fact it’s NP-hard to optimize. Gradient descent can be used as an approximate approach here, however it turns out to be slow and costs lots of iterations. Note however, that if we fix the set of variables $X$ and treat them as constants, then the objective is a convex function of $Y$ and vice versa. Our approach will therefore be to fix $Y$ and optimize $X$, then fix $X$ and optimize $Y$, and repeat until convergence. This approach is known as **ALS (Alternating Least Squares)**. For our objective function, the alternating least squares algorithm can be expressed with this simple pseudo-code:"
   ]
  },
  {
   "cell_type": "markdown",
   "metadata": {},
   "source": [
    "\n",
    "**Initialize** $X$, $Y$\n",
    "\n",
    "**while(convergence is not true) do**\n",
    "\n",
    "\n",
    "**for** $u = 1 \\cdots n$ **do**\n",
    "\n",
    "$x_u = \\left( \\sum_{r_ui \\in r_{u*}} y_i y_{i}^{T} + \\lambda I_k \\right)^{-1} \\sum_{r_ui \\in r_{u*}} r_{ui} y_i $ \n",
    "   \n",
    "**end for**\n",
    "\n",
    "**for** $u = 1 \\cdots n$ **do**\n",
    "\n",
    "$y_i = \\left( \\sum_{r_ui \\in r_{*i}} x_u x_{u}^{T} + \\lambda I_k \\right)^{-1} \\sum_{r_ui \\in r_{*i}} r_{ui} x_u $ \n",
    "   \n",
    "**end for**\n",
    "\n",
    "\n",
    "**end while**\n"
   ]
  },
  {
   "cell_type": "markdown",
   "metadata": {},
   "source": [
    "For a single machine, we can analyze the computational cost of this algorithm. Updating each $x_u$ will cost $O(n_u k^2 + k^3)$, where $n_u$ is the number of items rated by user $u$, and similarly updating each $y_i$ will cost $O(n_i k^2 + k^3)$, where $n_i$ is the number of users that have rated item $i$.\n",
    "\n",
    "\n",
    "Once we’ve computed the matrices $X$ and $Y$, there are several ways compute a prediction. The first is to do what was discussed before, which is to simply predict $ r_{ui} \\approx x_{u}^{T}y_i$ for each user $u$ and item $i$. \n",
    "This approach will cost $O(nmk)$ if we’d like to estimate every user-item pair. \n",
    "\n",
    "However, this approach is prohibitively expensive for most real-world datasets. A second (and more holistic) approach is to use the $x_u$ and $y_i$ as features in another learning algorithm, incorporating these features with others that are relevant to the prediction task."
   ]
  },
  {
   "cell_type": "markdown",
   "metadata": {},
   "source": [
    "### 2.3.3 Parallel Altenating Least Squares\n",
    "\n",
    "There are several ways to distribute the computation of the ALS algorithm depending on how data is partitioned.\n",
    "\n",
    "#### Method 1: using joins\n",
    "First we consider a fully distributed version, in the sense that all data (both input and output) is stored in a distributed file system. In practice, input data (ratings) and parameters ($X$ and $Y$) are stored in an a Spark RDD. Specifically, ratings -- that are always **sparse** -- are stored as RDD of triplets:\n",
    "\n",
    "Ratings: RDD((u, i, $r_{ui}$), . . . )\n",
    "\n",
    "\n",
    "Instead, we can use dense representation for factor matrices $X$ and $Y$, and these are stored as RDDs of vectors. More precisely, we can use the data types introduced in Spark MLLib to store such vectors and matrices:\n",
    "\n",
    "X : RDD($x_1$,...,$x_n$)\n",
    "\n",
    "Y : RDD($y_1$,...,$y_m$)\n",
    "\n",
    "\n",
    "Now, recall the expression to compute $x_u$:\n",
    "\n",
    "$x_u = \\left( \\sum_{r_ui \\in r_{u*}} y_i y_{i}^{T} + \\lambda I_k \\right)^{-1} \\sum_{r_ui \\in r_{u*}} r_{ui} y_i $ \n",
    "\n",
    "Let's call the first summation *part A* and the second summation *part B*. To compute such parts, in parallel, we can proceed with the following high-level pseudocode:\n",
    "\n",
    "* Join the Ratings RDD with the $Y$ matrix RDD using key $i$ (items)\n",
    "* Map to compute $y_i y_{i}^{T}$ and emit using key $u$ (user)\n",
    "* ReduceByKey $u$ (user) to compute $\\sum_{r_ui \\in r_{u*}} y_i y_{i}^{T}$\n",
    "* Invert\n",
    "* Another ReduceByKey $u$ (user) to compute $\\sum_{r_ui \\in r_{u*}} r_{ui} y_i$\n",
    "\n",
    "We can use the same template to copmute $y_i$.\n",
    "\n",
    "This approach works fine, but note it requires computing $y_i y_{i}^{T}$ for each user that has rated item $i$. \n",
    "\n",
    "#### Method 2: using broadcast variables (advanced topic)\n",
    "The next approach takes advantage of the fact that the $X$ and $Y$ factor matrices are often very small and can be stored locally on each machine.\n",
    "\n",
    "* Partition the Ratings RDD **by user** to create $R_1$, and similarly partition the Ratings RDD **by item** to create $R_2$. This means there are two copies of the same Ratings RDD, albeit with different partitionings. In $R_1$, all ratings by the same user are on the same machine, and in $R_2$ all ratings for same item are on the same machine.\n",
    "* Broadcast the matrices $X$ and $Y$. Note that these matrices are not RDD of vectors: they are now \"local: matrices.\n",
    "* Using $R_1$ and $Y$, we can use expression $x_u$ from above to compute the update of $x_u$ locally on each machine\n",
    "* Using $R_2$ and $X$, we can use expression $y_i$ from above to compute the update of $y_i$ locally on each machine\n",
    "\n",
    "A further optimization to this method is to group the $X$ and $Y$ factors matrices into blocks (user blocks and item blocks) and reduce the communication by only sending to each machine the block of users (or items) that are needed to compute the updates at that machine. \n",
    "\n",
    "This method is called **Block ALS**. It is achieved by precomputing some information about the ratings matrix to determine the \"out-links\" of each user (which blocks of the items it will contribute to) and \"in-link\" information for each item (which of the factor vectors it receives from each user block it will depend on). For exmple, assume that machine 1 is responsible for users 1,2,...,37: these will be block 1 of users. The items rated by these users are block 1 of items. Only the factors of block 1 of users and block 1 of items will be broadcasted to machine 1.\n",
    "\n",
    "### Further readings\n",
    "Other methods for matrix factorization include:\n",
    "\n",
    "* Low Rank Approximation and Regression in Input Sparsity Time, by Kenneth L. Clarkson, David P. Woodruff. http://arxiv.org/abs/1207.6365\n",
    "* Generalized Low Rank Models (GLRM), by Madeleine Udell, Corinne Horn, Reza Zadeh, Stephen Boyd. http://arxiv.org/abs/1410.0342\n",
    "* Matrix Completion and Low-Rank SVD via Fast Alternating Least Squares, by Trevor Hastie, Rahul Mazumder, Jason D. Lee, Reza Zadeh . Statistics Department and ICME, Stanford University, 2014. http://stanford.edu/~rezab/papers/fastals.pdf"
   ]
  },
  {
   "cell_type": "markdown",
   "metadata": {},
   "source": [
    "# 3. Usecase : Music recommender system\n",
    "\n",
    "In this usecase, we use the data of users and artists in the previous sections to build a statistical model to recommend artists for users.\n",
    " \n",
    "## 3.1 Requirements\n",
    "According to the properties of data, we need to choose a recommender algorithm that is suitable for this implicit feedback data. It means that the algorithm should learn without access to user or artist attributes such as age, genre,.... Therefore, an algorithm of type `collaborative filtering` is the best choice.\n",
    "\n",
    "Second, in the data, there are some users that have listened to only 1 artist. We need an algorithm that might provide decent recommendations to even these users. After all, at some point, every user starts out with just one play at some point! \n",
    "\n",
    "Third, we need an algorithm that scales, both in its ability to build large models, and to create recommendations quickly. So, an algorithm which can run on a distributed system (SPARK, Hadoop...) is very suitable.\n",
    "\n",
    "From these requirement, we can choose using ALS algorithm in SPARK's MLLIB.\n",
    "\n",
    "Spark MLlib’s ALS implementation draws on ideas from [1](http://yifanhu.net/PUB/cf.pdf) and [2](http://link.springer.com/chapter/10.1007%2F978-3-540-68880-8_32).\n",
    "\n",
    "## 3.2 Notes\n",
    "\n",
    "Currently, MLLIB can only build models from an RDD. That means we have two ways to prepare data:\n",
    "\n",
    "* Loading to into SPARK SQL DataFrame as before, and then access the corresponding RDD by calling `<dataframe>.rdd`. The invalid data is often sucessfully dropped by using mode `DROPMALFORMED`. However, this way might not work in all cases. Fortunately, we can use it with this usecase.\n",
    "\n",
    "* Loading data directly to RDD. However, we have to deal with the invalid data ourself. In the trade-off, this way is the most reliable, and can work in every case.\n",
    "\n",
    "In this notebook, we will use the second approach: it requires a bit more effort, but the reward is worth it!\n",
    "\n",
    " \n",
    "## 3.3 Cleanup the data\n",
    "In section 1, we already replaced the ids of mispelled artists by the corresponding standard ids by using SPARK SQL API.\n",
    "However, if the data has the invalid entries such that SPARK SQL API is stuck, the best way to work with it is using an RDD.\n",
    "\n",
    "Just as a recall, we work with three datasets in `user_artist_data.txt`, `` and `artist_alias.txt`. The entries in these file can be empty or have only one field. \n",
    "\n",
    "In details our goal now is:\n",
    "\n",
    "* Read the input ```user_artist_data.txt``` and transforms its representation into an output dataset.\n",
    "* To produce an output \"tuple\" containing the original user identifier and play counts, but with the artist identifier replaced by its most common alias, as found in the ```artist_alias.txt``` dataset.\n",
    "* Since the ```artist_alias.txt``` file is small, we can use a technique called **broadcast variables** to make such transformation more efficient.\n"
   ]
  },
  {
   "cell_type": "markdown",
   "metadata": {},
   "source": [
    "### Question 6\n",
    "\n",
    "#### Question 6.1\n",
    "\n",
    "<div class=\"alert alert-info\">\n",
    "Load data from `/datasets/lastfm/artist_alias.txt` and filter out the invalid entries to construct a dictionary to map from mispelled artists' ids to standard ids.\n",
    "</div>\n",
    "\n",
    "NOTE: From now on, we will use the \"standard\" data to train our model.\n",
    "\n",
    "HINT: If a line contains less than 2 fields or contains invalid numerial values, we can return a special tuple. After that, we can filter out these special tuples."
   ]
  },
  {
   "cell_type": "markdown",
   "metadata": {},
   "source": [
    "```python\n",
    "rawArtistAlias = sc.textFile(base + \"artist_alias.txt\")\n",
    "\n",
    "def xtractFields(s):\n",
    "    # Using white space or tab character as separetors,\n",
    "    # split a line into list of strings \n",
    "    line = re.split(\"\\s|\\t\",s,1)\n",
    "    # if this line has at least 2 characters\n",
    "    if (len(line) > 1):\n",
    "        try:\n",
    "            # try to parse the first and the second components to integer type\n",
    "            return (int(line[0]), int(line[1]))\n",
    "        except ValueError:\n",
    "            # if parsing has any error, return a special tuple\n",
    "            return (-1,-1)\n",
    "    else:\n",
    "        # if this line has less than 2 characters, return a special tuple\n",
    "        return (-1,-1)\n",
    "\n",
    "artistAlias = (\n",
    "                rawArtistAlias\n",
    "                    # extract fields using function xtractFields\n",
    "                    .map( ... )\n",
    "    \n",
    "                    # fileter out the special tuples\n",
    "                    .filter( ... )\n",
    "    \n",
    "                    # collect result to the driver as a \"dictionary\"\n",
    "                    .collectAsMap()\n",
    "                )\n",
    "```"
   ]
  },
  {
   "cell_type": "markdown",
   "metadata": {},
   "source": [
    "#### Question 6.2\n",
    "<div class=\"alert alert-info\">\n",
    "Using the dictionary in question 6.1, prepare RDD `userArtistDataRDD` by replacing mispelled artists' ids to standard ids. Show 5 samples.\n",
    "</div>\n",
    "\n",
    "HINT: Using broadcast varible can help us increase the effiency."
   ]
  },
  {
   "cell_type": "markdown",
   "metadata": {},
   "source": [
    "```python\n",
    "bArtistAlias = sc.broadcast(artistAlias)\n",
    "rawUserArtistData = sc.textFile(base + \"user_artist_data.txt\")\n",
    "\n",
    "def disambiguate(line):\n",
    "    [userID, artistID, count] = line.split(' ')\n",
    "    finalArtistID = bArtistAlias. ...\n",
    "    return (..., ..., ...)\n",
    "\n",
    "userArtistDataRDD = rawUserArtistData.map(...)\n",
    "userArtistDataRDD.take(5)\n",
    "```"
   ]
  },
  {
   "cell_type": "markdown",
   "metadata": {},
   "source": [
    "## 3.4 Training our statistical model\n",
    "To train a model using ALS, we must use a preference matrix  as an input. MLLIB uses the class `Rating` to support the construction of a distributed preference matrix."
   ]
  },
  {
   "cell_type": "markdown",
   "metadata": {},
   "source": [
    "### Question 7\n",
    "\n",
    "#### Question 7.1\n",
    "<div class=\"alert alert-info\">\n",
    "Given RDD `userArtistDataRDD` in question 6.2, construct a new RDD `trainingData` by tranforming each item of it into a `Rating` object.\n",
    "</div>"
   ]
  },
  {
   "cell_type": "code",
   "execution_count": null,
   "metadata": {
    "collapsed": true
   },
   "outputs": [],
   "source": [
    "from pyspark.mllib.recommendation import ALS, MatrixFactorizationModel, Rating"
   ]
  },
  {
   "cell_type": "markdown",
   "metadata": {},
   "source": [
    "```python\n",
    "# after replacing mispelled artist ids, the data contains some play count duplications of a user with the same artist\n",
    "# remember to aggregate these records\n",
    "allData = userArtistDataRDD...map(lambda r: Rating(..., ..., ...)).repartition(...).cache()\n",
    "```"
   ]
  },
  {
   "cell_type": "markdown",
   "metadata": {},
   "source": [
    "#### Question 7.2\n",
    "<div class=\"alert alert-info\">\n",
    "A model can be trained by using `ALS.trainImplicit(<training data>, <rank>)`, where:\n",
    "<ul>\n",
    "<li>`training data` is the input data you decide to feed to the ALS algorithm</li>\n",
    "<li>`rank` is the number of laten features</li>\n",
    "</ul>  \n",
    "\n",
    "\n",
    "We can also use some additional parameters to adjust the quality of the model. Currently, let's set \n",
    "<ul>\n",
    "<li>`rank=10`</li>\n",
    "<li>`iterations=5`</li>\n",
    "<li>`lambda_=0.01`</li>\n",
    "<li>`alpha=1.0` </li>\n",
    "</ul>\n",
    "to build model.\n",
    "</div>"
   ]
  },
  {
   "cell_type": "markdown",
   "metadata": {},
   "source": [
    "```python\n",
    "t0 = time()\n",
    "model = ALS.trainImplicit( ... )\n",
    "t1 = time()\n",
    "print(\"finish training model in %f secs\" % (t1 - t0))\n",
    "```"
   ]
  },
  {
   "cell_type": "markdown",
   "metadata": {},
   "source": [
    "#### Question 7.3\n",
    "<div class=\"alert alert-info\">\n",
    "The trained model can be saved into HDFS for later use. This can be done via `model.save(sc, <file_name>)`.\n",
    "Let's use this function to store our model as name `lastfm_model.spark`.\n",
    "</div>\n",
    "\n",
    "NOTE 1: since you may have noticed that building the model takes some time, it might come to your mind that this information could be stored, such that you can \"interrupt\" your laboratory session here, and restart next time by loading your model.\n",
    "\n",
    "NOTE 2: funnily enough, it could take more time to save the model than to build it from scratch! So take a look at the execution time to save the model: this method actually stores the model as Parquet files, which are column-oriented and compressed.\n",
    "\n",
    "NOTE 3: to check you have your file on HDFS, you are invited to open a terminal from the \"Home\" Jupyter dashboard, and type `hdfs dfs -ls` to check."
   ]
  },
  {
   "cell_type": "markdown",
   "metadata": {},
   "source": [
    "```python\n",
    "! hdfs dfs -rm -R -f -skipTrash lastfm_model.spark\n",
    "model.save( ... , ...)\n",
    "```"
   ]
  },
  {
   "cell_type": "markdown",
   "metadata": {},
   "source": [
    "#### Question 7.4\n",
    "<div class=\"alert alert-info\">\n",
    "A saved model can be load from file by using `MatrixFactorizationModel.load(sc, <file_name>)`. \n",
    "\n",
    "Let's load our model from file.\n",
    "</div>"
   ]
  },
  {
   "cell_type": "markdown",
   "metadata": {},
   "source": [
    "```python\n",
    "t0 = time()\n",
    "model = MatrixFactorizationModel.load(..., ...)\n",
    "t1 = time()\n",
    "print(\"finish loading model in %f secs\" % (t1 - t0))\n",
    "```"
   ]
  },
  {
   "cell_type": "markdown",
   "metadata": {},
   "source": [
    "#### Question 7.5\n",
    "<div class=\"alert alert-info\">\n",
    "Print the first row of user features in our model.\n",
    "</div>"
   ]
  },
  {
   "cell_type": "markdown",
   "metadata": {},
   "source": [
    "```python\n",
    "model.userFeatures(). ...\n",
    "```"
   ]
  },
  {
   "cell_type": "markdown",
   "metadata": {},
   "source": [
    "### Question 8\n",
    "<div class=\"alert alert-info\">\n",
    "Show the top-5 artist names recommendated for a given user, for example: `2093760` (please, try with different users!).\n",
    "</div>\n",
    "\n",
    "HINT: The recommendations can be given by function `recommendProducts(userID, num_recommendations)`. These recommendations are only artist ids. You have to map them to artist names by using data in `artist_data.txt`."
   ]
  },
  {
   "cell_type": "markdown",
   "metadata": {},
   "source": [
    "```python\n",
    "# Make five reccommendations to user 2093760\n",
    "recommendations = (model. ...)\n",
    "\n",
    "# construct set of recommendated artists\n",
    "recArtist = set( ... )\n",
    "```"
   ]
  },
  {
   "cell_type": "markdown",
   "metadata": {},
   "source": [
    "```python\n",
    "# construct data of artists (artist_id, artist_name)\n",
    "\n",
    "rawArtistData = sc.textFile(base + \"artist_data.txt\")\n",
    "\n",
    "def xtractFields(s):\n",
    "    line = re.split(\"\\s|\\t\",s,1)\n",
    "    if (len(line) > 1):\n",
    "        try:\n",
    "            return (int(line[0]), str(line[1].strip()))\n",
    "        except ValueError:\n",
    "            return (-1,\"\")\n",
    "    else: \n",
    "        return (-1,\"\")\n",
    "\n",
    "artistByID = rawArtistData.map(xtractFields).filter(lambda x: x[0] > 0)\n",
    "```"
   ]
  },
  {
   "cell_type": "markdown",
   "metadata": {},
   "source": [
    "```python\n",
    "# Filter in those artists, get just artist, and print\n",
    "def artistNames(line):\n",
    "#     [artistID, name]\n",
    "    if (...):\n",
    "        return True\n",
    "    else:\n",
    "        return False\n",
    "\n",
    "recList = artistByID.filter(...).values().collect()\n",
    "\n",
    "print(recList)\n",
    "```"
   ]
  },
  {
   "cell_type": "markdown",
   "metadata": {},
   "source": [
    "<div class=\"alert alert-danger\">\n",
    "At the moment, it is necessary to manually unpersist the RDDs inside the model when you are done with it. The following function can be used to make sure models are promptly uncached.\n",
    "</div>"
   ]
  },
  {
   "cell_type": "code",
   "execution_count": null,
   "metadata": {
    "collapsed": true
   },
   "outputs": [],
   "source": [
    "\n",
    "def unpersist(model):\n",
    "    model.userFeatures().unpersist()\n",
    "    model.productFeatures().unpersist()\n",
    "\n",
    "# uncache data and model when they are no longer used  \n",
    "unpersist(model)"
   ]
  },
  {
   "cell_type": "markdown",
   "metadata": {},
   "source": [
    "## 3.5 Evaluating Recommendation Quality \n",
    "\n",
    "In this section, we study how to evaluate the quality of our model. It's hard to say how good the recommendations are.\n",
    "One of serveral methods approach to evaluate  a recommender based on its ability to rank good items (artists) high in a list of recommendations. The problem is how to define \"good artists\". Currently, by training all data, \"good artists\" is defined as \"artists the user has listened to\", and the recommender system has already received all of this information as input. It could trivially return the users previously-listened artists as top recommendations and score perfectly. Indeed, this is not useful, because the recommender's is used to recommend artists that the user has **never** listened to. \n",
    "\n",
    "To overcome that problem, we can hide the some of the artist play data and only use the rest to train model. Then, this held-out data can be interpreted as a collection of \"good\" recommendations for each user. The recommender is asked to rank all items in the model, and the rank of the held-out artists are examined. Ideally the recommender places all of them at or near the top of the list.\n",
    "\n",
    "The recommender's score can then be computed by comparing all held-out artists' ranks to the rest.  The fraction of pairs where the held-out artist is ranked higher is its score. 1.0 is perfect, 0.0 is the worst possible score, and 0.5 is the expected value achieved from randomly ranking artists. \n",
    "\n",
    "AUC(Area Under the Curve) can be used as a metric to evaluate model. It is also viewed as the probability that a randomly-chosen \"good\" artist ranks above a randomly-chosen \"bad\" artist.\n",
    "\n",
    "Next, we split the training data into 2 parts: `trainData` and `cvData` with ratio 0.9:0.1 respectively, where `trainData` is the dataset that will be used to train model. Then we write a function to calculate AUC to evaluate the quality of our model.\n"
   ]
  },
  {
   "cell_type": "markdown",
   "metadata": {},
   "source": [
    "### Question 9\n",
    "\n",
    "#### Question 9.1\n",
    "<div class=\"alert alert-info\">\n",
    "Split the data into `trainData` and `cvData` with ratio 0.9:0.1 and use the first part to train a statistic model with:\n",
    "<ul>\n",
    "<li>`rank`=10</li>\n",
    "<li>`iterations`=5</li>\n",
    "<li>`lambda_`=0.01</li>\n",
    "<li>`alpha`=1.0</li>\n",
    "</ul>\n",
    "</div>"
   ]
  },
  {
   "cell_type": "markdown",
   "metadata": {},
   "source": [
    "```python\n",
    "trainData, cvData = allData.randomSplit ...\n",
    "trainData.cache()\n",
    "cvData.cache()\n",
    "```"
   ]
  },
  {
   "cell_type": "markdown",
   "metadata": {},
   "source": [
    "```python\n",
    "t0 = time()\n",
    "model = ALS.trainImplicit( ... )\n",
    "t1 = time()\n",
    "print(\"finish training model in %f secs\" % (t1 - t0))\n",
    "```"
   ]
  },
  {
   "cell_type": "markdown",
   "metadata": {},
   "source": [
    "#### Area under the ROC curve: a function to compute it"
   ]
  },
  {
   "cell_type": "code",
   "execution_count": null,
   "metadata": {
    "collapsed": true
   },
   "outputs": [],
   "source": [
    "# Get all unique artistId, and broadcast them\n",
    "allItemIDs = np.array(allData.map(lambda x: x[1]).distinct().collect())\n",
    "bAllItemIDs = sc.broadcast(allItemIDs)"
   ]
  },
  {
   "cell_type": "code",
   "execution_count": null,
   "metadata": {
    "collapsed": true
   },
   "outputs": [],
   "source": [
    "from random import randint\n",
    "\n",
    "# Depend on the number of item in userIDAndPosItemIDs,\n",
    "# create a set of \"negative\" products for each user. These are randomly chosen\n",
    "# from among all of the other items, excluding those that are \"positive\" for the user.\n",
    "# NOTE 1: mapPartitions operates on many (user,positive-items) pairs at once\n",
    "# NOTE 2: flatMap breaks the collections above down into one big set of tuples\n",
    "def xtractNegative(userIDAndPosItemIDs):\n",
    "    def pickEnoughNegatives(line):\n",
    "        userID = line[0]\n",
    "        posItemIDSet = set(line[1])\n",
    "        #posItemIDSet = line[1]\n",
    "        negative = []\n",
    "        allItemIDs = bAllItemIDs.value\n",
    "        # Keep about as many negative examples per user as positive. Duplicates are OK.\n",
    "        i = 0\n",
    "        while (i < len(allItemIDs) and len(negative) < len(posItemIDSet)):\n",
    "            itemID = allItemIDs[randint(0,len(allItemIDs)-1)]\n",
    "            if itemID not in posItemIDSet:\n",
    "                negative.append(itemID)\n",
    "            i += 1\n",
    "        \n",
    "        # Result is a collection of (user,negative-item) tuples\n",
    "        return map(lambda itemID: (userID, itemID), negative)\n",
    "\n",
    "    # Init an RNG and the item IDs set once for partition\n",
    "    # allItemIDs = bAllItemIDs.value\n",
    "    return map(pickEnoughNegatives, userIDAndPosItemIDs)\n",
    "\n",
    "def ratioOfCorrectRanks(positiveRatings, negativeRatings):\n",
    "    \n",
    "    # find number elements in arr that has index >= start and has value smaller than x\n",
    "    # arr is a sorted array\n",
    "    def findNumElementsSmallerThan(arr, x, start=0):\n",
    "        left = start\n",
    "        right = len(arr) -1\n",
    "        # if x is bigger than the biggest element in arr\n",
    "        if start > right or x > arr[right]:\n",
    "            return right + 1\n",
    "        mid = -1\n",
    "        while left <= right:\n",
    "            mid = (left + right) // 2\n",
    "            if arr[mid] < x:\n",
    "                left = mid + 1\n",
    "            elif arr[mid] > x:\n",
    "                right = mid - 1\n",
    "            else:\n",
    "                while mid-1 >= start and arr[mid-1] == x:\n",
    "                    mid -= 1\n",
    "                return mid\n",
    "        return mid if arr[mid] > x else mid + 1\n",
    "    \n",
    "    ## AUC may be viewed as the probability that a random positive item scores\n",
    "    ## higher than a random negative one. Here the proportion of all positive-negative\n",
    "    ## pairs that are correctly ranked is computed. The result is equal to the AUC metric.\n",
    "    correct = 0 ## L\n",
    "    total = 0 ## L\n",
    "    \n",
    "    # sorting positiveRatings array needs more cost\n",
    "    #positiveRatings = np.array(map(lambda x: x.rating, positiveRatings))\n",
    "\n",
    "    negativeRatings = list(map(lambda x:x.rating, negativeRatings))\n",
    "    \n",
    "    #np.sort(positiveRatings)\n",
    "    negativeRatings.sort()# = np.sort(negativeRatings)\n",
    "    total = len(positiveRatings)*len(negativeRatings)\n",
    "    \n",
    "    for positive in positiveRatings:\n",
    "        # Count the correctly-ranked pairs\n",
    "        correct += findNumElementsSmallerThan(negativeRatings, positive.rating)\n",
    "        \n",
    "    ## Return AUC: fraction of pairs ranked correctly\n",
    "    return float(correct) / total\n",
    "\n",
    "def calculateAUC(positiveData, bAllItemIDs, predictFunction):\n",
    "    # Take held-out data as the \"positive\", and map to tuples\n",
    "    positiveUserProducts = positiveData.map(lambda r: (r[0], r[1]))\n",
    "    # Make predictions for each of them, including a numeric score, and gather by user\n",
    "    positivePredictions = predictFunction(positiveUserProducts).groupBy(lambda r: r.user)\n",
    "    \n",
    "    # Create a set of \"negative\" products for each user. These are randomly chosen \n",
    "    # from among all of the other items, excluding those that are \"positive\" for the user. \n",
    "    negativeUserProducts = positiveUserProducts.groupByKey().mapPartitions(xtractNegative).flatMap(lambda x: x)\n",
    "    # Make predictions on the rest\n",
    "    negativePredictions = predictFunction(negativeUserProducts).groupBy(lambda r: r.user)\n",
    "    \n",
    "    return (\n",
    "            positivePredictions.join(negativePredictions)\n",
    "                .values()\n",
    "                .map(\n",
    "                    lambda positive_negativeRatings: ratioOfCorrectRanks(positive_negativeRatings[0], positive_negativeRatings[1])\n",
    "                )\n",
    "                .mean()\n",
    "            )"
   ]
  },
  {
   "cell_type": "markdown",
   "metadata": {},
   "source": [
    "####  Question 9.2\n",
    "<div class=\"alert alert-info\">\n",
    "Using part `cvData` and function `calculateAUC` to compute the AUC of the trained model.\n",
    "</div>"
   ]
  },
  {
   "cell_type": "markdown",
   "metadata": {},
   "source": [
    "```python\n",
    "t0 = time()\n",
    "auc = calculateAUC( ... , ..., model.predictAll)\n",
    "t1 = time()\n",
    "print(\"auc=\",auc)\n",
    "print(\"finish in %f seconds\" % (t1 - t0))\n",
    "```"
   ]
  },
  {
   "cell_type": "markdown",
   "metadata": {},
   "source": [
    "#### Question 9.3\n",
    "<div class=\"alert alert-info\">\n",
    "Now we have the UAC of our model, it’s helpful to benchmark this against a simpler approach. For example, consider recommending the globally most-played artists to every user. This is not personalized, but is simple and may be effective.   \n",
    "<ul></ul>\n",
    "Implement this simple pupolarity-based prediction algorithm, evaluate its AUC score, and compare to the results achieved by the more sophisticated ALS algorithm.\n",
    "</div>"
   ]
  },
  {
   "cell_type": "markdown",
   "metadata": {},
   "source": [
    "```python\n",
    "bListenCount = sc.broadcast(trainData.map(lambda r: (r[1], r[2])).reduceByKey(...).collectAsMap())\n",
    "def predictMostListened(allData):\n",
    "    return allData.map(lambda r: Rating(r[0], r[1], bListenCount.value.get( ... , 0.0)))\n",
    "```"
   ]
  },
  {
   "cell_type": "markdown",
   "metadata": {},
   "source": [
    "```python\n",
    "auc = calculateAUC(..., ..., predictMostListened)\n",
    "print(auc)\n",
    "```"
   ]
  },
  {
   "cell_type": "markdown",
   "metadata": {},
   "source": [
    "## 3.6 Personalized recommendations with ALS\n",
    "\n",
    "In the previous section, we build our models with some given paramters without any knowledge about them. Actually, choosing the best parameters' values is very important. It can significantly affect the quality of models. Especially, with the current implementation of ALS in MLLIB, these parameters are not learned by the algorithm, and must be chosen by the caller. The following parameters should get consideration before training models:\n",
    "\n",
    "* `rank = 10`: the number of latent factors in the model, or equivalently, the number of columns $k$ in the user-feature and product-feature matrices. In non-trivial cases, this is also their rank. \n",
    "\n",
    "* `iterations = 5`: the number of iterations that the factorization runs. Instead of runing the algorithm until RMSE converged which actually takes very long time to finish with large datasets, we only let it run in a given number of iterations. More iterations take more time but may produce a better factorization.\n",
    "\n",
    "* `lambda_ = 0.01`: a standard overfitting parameter. Higher values resist overfitting, but values that are too high hurt the factorization's accuracy.\n",
    "\n",
    "*  `alpha = 1.0`: controls the relative weight of observed versus unobserved userproduct interactions in the factorization. \n",
    "\n",
    "Although all of them have impact on the models' quality, `iterations` is more of a constraint on resources used in the factorization. So, `rank`, `lambda_` and `alpha` can be considered hyperparameters to the model. \n",
    "We will try to find \"good\" values for them. Indeed, the values of hyperparameter are not necessarily optimal. Choosing good hyperparameter values is a common problem in machine learning. The most basic way to choose values is to simply try combinations of values and evaluate a metric for each of them, and choose the combination that produces the best value of the metric. \n"
   ]
  },
  {
   "cell_type": "markdown",
   "metadata": {},
   "source": [
    "### Question 10\n",
    "\n",
    "#### Question 10.1\n",
    "<div class=\"alert alert-info\">\n",
    "For simplicity, assume that we want to explore the following parameter space: $ rank \\in \\{10, 50\\}$, $lambda\\_ \\in \\{1.0, 0.0001\\}$ and $alpha \\in \\{1.0, 40.0\\}$.\n",
    "\n",
    "Find the best combination of them in terms of the highest AUC value.\n",
    "</div>"
   ]
  },
  {
   "cell_type": "markdown",
   "metadata": {},
   "source": [
    "```python\n",
    "evaluations = []\n",
    "\n",
    "for rank in [10, 50]:\n",
    "    for lambda_ in [1.0, 0.0001]:\n",
    "        for alpha in [1.0, 40.0]:\n",
    "            print(\"Train model with rank=%d lambda_=%f alpha=%f\" % (rank, lambda_, alpha))\n",
    "            # with each combination of params, we should run multiple times and get avg\n",
    "            # for simple, we only run one time.\n",
    "            model = ALS.trainImplicit( ... )\n",
    "            \n",
    "            auc = calculateAUC( ... )\n",
    "            \n",
    "            evaluations.append(((rank, lambda_, alpha), auc))\n",
    "            \n",
    "            unpersist(model)\n",
    "\n",
    "evaluations.sort( ... )\n",
    "                 \n",
    "evalDataFrame = pd.DataFrame(data=evaluations)\n",
    "print(evalDataFrame)\n",
    "\n",
    "trainData.unpersist()\n",
    "cvData.unpersist()\n",
    "```"
   ]
  },
  {
   "cell_type": "markdown",
   "metadata": {},
   "source": [
    "#### Question 10.2 \n",
    "<div class=\"alert alert-info\">\n",
    "Using \"optimal\" hyper-parameters in question 10.1, re-train the model and show top-5 artist names recommendated for user `2093760`.\n",
    "</div>"
   ]
  },
  {
   "cell_type": "markdown",
   "metadata": {},
   "source": [
    "```python\n",
    "model = ALS.trainImplicit( ... )\n",
    "allData.unpersist()\n",
    "\n",
    "userID = 2093760\n",
    "recommendations = model.recommendProducts(...)\n",
    "\n",
    "recommendedProductIDs = set( ... )\n",
    "\n",
    "recList = artistByID. ...\n",
    "print(recList)\n",
    "\n",
    "unpersist(model)\n",
    "```"
   ]
  },
  {
   "cell_type": "markdown",
   "metadata": {},
   "source": [
    "# Summary\n",
    "\n",
    "In this notebook, we introduce an algorithm to do matrix factorization and the way of using it to make recommendation. Further more, we studied how to build a large-scale recommender system on SPARK using ALS algorithm and evaluate its quality. Finally, a simple approach to choose good parameters is mentioned."
   ]
  },
  {
   "cell_type": "markdown",
   "metadata": {},
   "source": [
    "# References\n",
    "\n",
    "- The example in section 2 is taken from [Recommender system](infolab.stanford.edu/~ullman/mmds/ch9.pdf)"
   ]
  }
 ],
 "metadata": {
  "kernelspec": {
   "display_name": "Python 3",
   "language": "python",
   "name": "python3"
  },
  "language_info": {
   "codemirror_mode": {
    "name": "ipython",
    "version": 3
   },
   "file_extension": ".py",
   "mimetype": "text/x-python",
   "name": "python",
   "nbconvert_exporter": "python",
   "pygments_lexer": "ipython3",
   "version": "3.6.4"
  }
 },
 "nbformat": 4,
 "nbformat_minor": 2
}
